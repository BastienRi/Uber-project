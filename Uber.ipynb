{
 "cells": [
  {
   "cell_type": "markdown",
   "metadata": {},
   "source": [
    "# Uber project (unsupervised Learning)"
   ]
  },
  {
   "cell_type": "markdown",
   "metadata": {},
   "source": [
    "Uber already has data about pickups in major cities. Your objective is to create algorithms that will determine where are the hot-zones that drivers should be in. Purposes:\n",
    "\n",
    "- Create an algorithm to find hot zones\n",
    "- Visualize results on a nice dashboard"
   ]
  },
  {
   "cell_type": "markdown",
   "metadata": {},
   "source": [
    "**** IDEAS ****\n",
    "- algorithm : make iterations on \"eps\" and \"min_samples\" to find, for each case, the best ratio\n",
    "- EDA : observe where we get variations\n",
    "- visualization : subplots with day of week, hour, etc."
   ]
  },
  {
   "cell_type": "markdown",
   "metadata": {},
   "source": [
    "<b>Deliverable 📬</b>\n",
    "\n",
    "To complete this project, your team should:\n",
    "\n",
    "- Have a map with hot-zones using any python library (plotly or anything else).\n",
    "- You should at least describe hot-zones per day of week.\n",
    "- Compare results with at least two unsupervised algorithms like KMeans and DBScan."
   ]
  },
  {
   "cell_type": "code",
   "execution_count": 1,
   "metadata": {},
   "outputs": [],
   "source": [
    "import pandas as pd\n",
    "import numpy as np\n",
    "import seaborn as sns\n",
    "import matplotlib.pyplot as plt\n",
    "\n",
    "import plotly.io as pio\n",
    "import plotly.express as px\n",
    "pio.renderers.default = \"iframe_connected\"\n",
    "\n",
    "from sklearn.preprocessing import OneHotEncoder, StandardScaler\n",
    "from sklearn.compose import ColumnTransformer\n",
    "from sklearn.cluster import KMeans, DBSCAN"
   ]
  },
  {
   "cell_type": "markdown",
   "metadata": {},
   "source": [
    "## First look on April 2014 only"
   ]
  },
  {
   "cell_type": "markdown",
   "metadata": {},
   "source": [
    "We first try on a smaller dataset : April 2014 alone. We will try to find some patterns and apply ML models, and then we will add the other months in order to check if observations generalize."
   ]
  },
  {
   "cell_type": "markdown",
   "metadata": {},
   "source": [
    "### EDA"
   ]
  },
  {
   "cell_type": "code",
   "execution_count": 2,
   "metadata": {},
   "outputs": [],
   "source": [
    "df_apr_14 = pd.read_csv('uber-raw-data-apr14.csv')"
   ]
  },
  {
   "cell_type": "code",
   "execution_count": 3,
   "metadata": {},
   "outputs": [
    {
     "data": {
      "text/html": [
       "<div>\n",
       "<style scoped>\n",
       "    .dataframe tbody tr th:only-of-type {\n",
       "        vertical-align: middle;\n",
       "    }\n",
       "\n",
       "    .dataframe tbody tr th {\n",
       "        vertical-align: top;\n",
       "    }\n",
       "\n",
       "    .dataframe thead th {\n",
       "        text-align: right;\n",
       "    }\n",
       "</style>\n",
       "<table border=\"1\" class=\"dataframe\">\n",
       "  <thead>\n",
       "    <tr style=\"text-align: right;\">\n",
       "      <th></th>\n",
       "      <th>Date/Time</th>\n",
       "      <th>Lat</th>\n",
       "      <th>Lon</th>\n",
       "      <th>Base</th>\n",
       "    </tr>\n",
       "  </thead>\n",
       "  <tbody>\n",
       "    <tr>\n",
       "      <th>0</th>\n",
       "      <td>4/1/2014 0:11:00</td>\n",
       "      <td>40.7690</td>\n",
       "      <td>-73.9549</td>\n",
       "      <td>B02512</td>\n",
       "    </tr>\n",
       "    <tr>\n",
       "      <th>1</th>\n",
       "      <td>4/1/2014 0:17:00</td>\n",
       "      <td>40.7267</td>\n",
       "      <td>-74.0345</td>\n",
       "      <td>B02512</td>\n",
       "    </tr>\n",
       "    <tr>\n",
       "      <th>2</th>\n",
       "      <td>4/1/2014 0:21:00</td>\n",
       "      <td>40.7316</td>\n",
       "      <td>-73.9873</td>\n",
       "      <td>B02512</td>\n",
       "    </tr>\n",
       "    <tr>\n",
       "      <th>3</th>\n",
       "      <td>4/1/2014 0:28:00</td>\n",
       "      <td>40.7588</td>\n",
       "      <td>-73.9776</td>\n",
       "      <td>B02512</td>\n",
       "    </tr>\n",
       "    <tr>\n",
       "      <th>4</th>\n",
       "      <td>4/1/2014 0:33:00</td>\n",
       "      <td>40.7594</td>\n",
       "      <td>-73.9722</td>\n",
       "      <td>B02512</td>\n",
       "    </tr>\n",
       "    <tr>\n",
       "      <th>...</th>\n",
       "      <td>...</td>\n",
       "      <td>...</td>\n",
       "      <td>...</td>\n",
       "      <td>...</td>\n",
       "    </tr>\n",
       "    <tr>\n",
       "      <th>564511</th>\n",
       "      <td>4/30/2014 23:22:00</td>\n",
       "      <td>40.7640</td>\n",
       "      <td>-73.9744</td>\n",
       "      <td>B02764</td>\n",
       "    </tr>\n",
       "    <tr>\n",
       "      <th>564512</th>\n",
       "      <td>4/30/2014 23:26:00</td>\n",
       "      <td>40.7629</td>\n",
       "      <td>-73.9672</td>\n",
       "      <td>B02764</td>\n",
       "    </tr>\n",
       "    <tr>\n",
       "      <th>564513</th>\n",
       "      <td>4/30/2014 23:31:00</td>\n",
       "      <td>40.7443</td>\n",
       "      <td>-73.9889</td>\n",
       "      <td>B02764</td>\n",
       "    </tr>\n",
       "    <tr>\n",
       "      <th>564514</th>\n",
       "      <td>4/30/2014 23:32:00</td>\n",
       "      <td>40.6756</td>\n",
       "      <td>-73.9405</td>\n",
       "      <td>B02764</td>\n",
       "    </tr>\n",
       "    <tr>\n",
       "      <th>564515</th>\n",
       "      <td>4/30/2014 23:48:00</td>\n",
       "      <td>40.6880</td>\n",
       "      <td>-73.9608</td>\n",
       "      <td>B02764</td>\n",
       "    </tr>\n",
       "  </tbody>\n",
       "</table>\n",
       "<p>564516 rows × 4 columns</p>\n",
       "</div>"
      ],
      "text/plain": [
       "                 Date/Time      Lat      Lon    Base\n",
       "0         4/1/2014 0:11:00  40.7690 -73.9549  B02512\n",
       "1         4/1/2014 0:17:00  40.7267 -74.0345  B02512\n",
       "2         4/1/2014 0:21:00  40.7316 -73.9873  B02512\n",
       "3         4/1/2014 0:28:00  40.7588 -73.9776  B02512\n",
       "4         4/1/2014 0:33:00  40.7594 -73.9722  B02512\n",
       "...                    ...      ...      ...     ...\n",
       "564511  4/30/2014 23:22:00  40.7640 -73.9744  B02764\n",
       "564512  4/30/2014 23:26:00  40.7629 -73.9672  B02764\n",
       "564513  4/30/2014 23:31:00  40.7443 -73.9889  B02764\n",
       "564514  4/30/2014 23:32:00  40.6756 -73.9405  B02764\n",
       "564515  4/30/2014 23:48:00  40.6880 -73.9608  B02764\n",
       "\n",
       "[564516 rows x 4 columns]"
      ]
     },
     "execution_count": 3,
     "metadata": {},
     "output_type": "execute_result"
    }
   ],
   "source": [
    "df_apr_14"
   ]
  },
  {
   "cell_type": "code",
   "execution_count": 4,
   "metadata": {},
   "outputs": [],
   "source": [
    "df_apr_14 = df_apr_14.sample(10_000)"
   ]
  },
  {
   "cell_type": "code",
   "execution_count": 5,
   "metadata": {},
   "outputs": [
    {
     "data": {
      "text/plain": [
       "B02682    4000\n",
       "B02598    3260\n",
       "B02617    1956\n",
       "B02512     617\n",
       "B02764     167\n",
       "Name: Base, dtype: int64"
      ]
     },
     "execution_count": 5,
     "metadata": {},
     "output_type": "execute_result"
    }
   ],
   "source": [
    "df_apr_14.Base.value_counts()"
   ]
  },
  {
   "cell_type": "code",
   "execution_count": 6,
   "metadata": {},
   "outputs": [
    {
     "data": {
      "text/html": [
       "<iframe\n",
       "    scrolling=\"no\"\n",
       "    width=\"100%\"\n",
       "    height=\"545px\"\n",
       "    src=\"iframe_figures/figure_6.html\"\n",
       "    frameborder=\"0\"\n",
       "    allowfullscreen\n",
       "></iframe>\n"
      ]
     },
     "metadata": {},
     "output_type": "display_data"
    }
   ],
   "source": [
    "fig = px.scatter_mapbox(df_apr_14, lat=\"Lat\", lon=\"Lon\", mapbox_style='carto-positron')\n",
    "fig.show()"
   ]
  },
  {
   "cell_type": "code",
   "execution_count": 7,
   "metadata": {},
   "outputs": [],
   "source": [
    "df_apr_14['Date/Time'] = pd.to_datetime(df_apr_14['Date/Time'])"
   ]
  },
  {
   "cell_type": "code",
   "execution_count": 8,
   "metadata": {},
   "outputs": [],
   "source": [
    "df_apr_14['dayofweek'] = df_apr_14['Date/Time'].dt.dayofweek"
   ]
  },
  {
   "cell_type": "code",
   "execution_count": 9,
   "metadata": {},
   "outputs": [
    {
     "data": {
      "text/html": [
       "<div>\n",
       "<style scoped>\n",
       "    .dataframe tbody tr th:only-of-type {\n",
       "        vertical-align: middle;\n",
       "    }\n",
       "\n",
       "    .dataframe tbody tr th {\n",
       "        vertical-align: top;\n",
       "    }\n",
       "\n",
       "    .dataframe thead th {\n",
       "        text-align: right;\n",
       "    }\n",
       "</style>\n",
       "<table border=\"1\" class=\"dataframe\">\n",
       "  <thead>\n",
       "    <tr style=\"text-align: right;\">\n",
       "      <th></th>\n",
       "      <th>Date/Time</th>\n",
       "      <th>Lat</th>\n",
       "      <th>Lon</th>\n",
       "      <th>Base</th>\n",
       "      <th>dayofweek</th>\n",
       "    </tr>\n",
       "  </thead>\n",
       "  <tbody>\n",
       "    <tr>\n",
       "      <th>473642</th>\n",
       "      <td>2014-04-20 20:10:00</td>\n",
       "      <td>40.7947</td>\n",
       "      <td>-73.9323</td>\n",
       "      <td>B02682</td>\n",
       "      <td>6</td>\n",
       "    </tr>\n",
       "    <tr>\n",
       "      <th>109267</th>\n",
       "      <td>2014-04-15 16:02:00</td>\n",
       "      <td>40.7522</td>\n",
       "      <td>-73.9914</td>\n",
       "      <td>B02598</td>\n",
       "      <td>1</td>\n",
       "    </tr>\n",
       "    <tr>\n",
       "      <th>237669</th>\n",
       "      <td>2014-04-05 19:15:00</td>\n",
       "      <td>40.7249</td>\n",
       "      <td>-74.0028</td>\n",
       "      <td>B02617</td>\n",
       "      <td>5</td>\n",
       "    </tr>\n",
       "    <tr>\n",
       "      <th>99015</th>\n",
       "      <td>2014-04-13 00:15:00</td>\n",
       "      <td>40.7281</td>\n",
       "      <td>-74.0055</td>\n",
       "      <td>B02598</td>\n",
       "      <td>6</td>\n",
       "    </tr>\n",
       "    <tr>\n",
       "      <th>487876</th>\n",
       "      <td>2014-04-23 09:12:00</td>\n",
       "      <td>40.7177</td>\n",
       "      <td>-73.7764</td>\n",
       "      <td>B02682</td>\n",
       "      <td>2</td>\n",
       "    </tr>\n",
       "    <tr>\n",
       "      <th>...</th>\n",
       "      <td>...</td>\n",
       "      <td>...</td>\n",
       "      <td>...</td>\n",
       "      <td>...</td>\n",
       "      <td>...</td>\n",
       "    </tr>\n",
       "    <tr>\n",
       "      <th>65245</th>\n",
       "      <td>2014-04-06 19:49:00</td>\n",
       "      <td>40.6941</td>\n",
       "      <td>-73.9919</td>\n",
       "      <td>B02598</td>\n",
       "      <td>6</td>\n",
       "    </tr>\n",
       "    <tr>\n",
       "      <th>113481</th>\n",
       "      <td>2014-04-16 07:08:00</td>\n",
       "      <td>40.7314</td>\n",
       "      <td>-73.9750</td>\n",
       "      <td>B02598</td>\n",
       "      <td>2</td>\n",
       "    </tr>\n",
       "    <tr>\n",
       "      <th>116493</th>\n",
       "      <td>2014-04-16 17:53:00</td>\n",
       "      <td>40.7488</td>\n",
       "      <td>-73.9843</td>\n",
       "      <td>B02598</td>\n",
       "      <td>2</td>\n",
       "    </tr>\n",
       "    <tr>\n",
       "      <th>115727</th>\n",
       "      <td>2014-04-16 16:13:00</td>\n",
       "      <td>40.7503</td>\n",
       "      <td>-74.0061</td>\n",
       "      <td>B02598</td>\n",
       "      <td>2</td>\n",
       "    </tr>\n",
       "    <tr>\n",
       "      <th>216169</th>\n",
       "      <td>2014-04-30 20:12:00</td>\n",
       "      <td>40.7225</td>\n",
       "      <td>-74.0013</td>\n",
       "      <td>B02598</td>\n",
       "      <td>2</td>\n",
       "    </tr>\n",
       "  </tbody>\n",
       "</table>\n",
       "<p>10000 rows × 5 columns</p>\n",
       "</div>"
      ],
      "text/plain": [
       "                 Date/Time      Lat      Lon    Base  dayofweek\n",
       "473642 2014-04-20 20:10:00  40.7947 -73.9323  B02682          6\n",
       "109267 2014-04-15 16:02:00  40.7522 -73.9914  B02598          1\n",
       "237669 2014-04-05 19:15:00  40.7249 -74.0028  B02617          5\n",
       "99015  2014-04-13 00:15:00  40.7281 -74.0055  B02598          6\n",
       "487876 2014-04-23 09:12:00  40.7177 -73.7764  B02682          2\n",
       "...                    ...      ...      ...     ...        ...\n",
       "65245  2014-04-06 19:49:00  40.6941 -73.9919  B02598          6\n",
       "113481 2014-04-16 07:08:00  40.7314 -73.9750  B02598          2\n",
       "116493 2014-04-16 17:53:00  40.7488 -73.9843  B02598          2\n",
       "115727 2014-04-16 16:13:00  40.7503 -74.0061  B02598          2\n",
       "216169 2014-04-30 20:12:00  40.7225 -74.0013  B02598          2\n",
       "\n",
       "[10000 rows x 5 columns]"
      ]
     },
     "execution_count": 9,
     "metadata": {},
     "output_type": "execute_result"
    }
   ],
   "source": [
    "df_apr_14"
   ]
  },
  {
   "cell_type": "markdown",
   "metadata": {},
   "source": [
    "Later, we will observe the points repartition depending on the day of week. We drop 'Date/Time' and 'Base' columns :"
   ]
  },
  {
   "cell_type": "code",
   "execution_count": 10,
   "metadata": {},
   "outputs": [],
   "source": [
    "df_apr_14 = df_apr_14[['Lat', 'Lon', 'dayofweek']]"
   ]
  },
  {
   "cell_type": "code",
   "execution_count": 11,
   "metadata": {},
   "outputs": [
    {
     "data": {
      "text/plain": [
       "Lat          0\n",
       "Lon          0\n",
       "dayofweek    0\n",
       "dtype: int64"
      ]
     },
     "execution_count": 11,
     "metadata": {},
     "output_type": "execute_result"
    }
   ],
   "source": [
    "df_apr_14.isna().sum()"
   ]
  },
  {
   "cell_type": "markdown",
   "metadata": {},
   "source": [
    "We don't have any Na in the dataset."
   ]
  },
  {
   "cell_type": "code",
   "execution_count": 12,
   "metadata": {},
   "outputs": [
    {
     "data": {
      "text/html": [
       "<div>\n",
       "<style scoped>\n",
       "    .dataframe tbody tr th:only-of-type {\n",
       "        vertical-align: middle;\n",
       "    }\n",
       "\n",
       "    .dataframe tbody tr th {\n",
       "        vertical-align: top;\n",
       "    }\n",
       "\n",
       "    .dataframe thead th {\n",
       "        text-align: right;\n",
       "    }\n",
       "</style>\n",
       "<table border=\"1\" class=\"dataframe\">\n",
       "  <thead>\n",
       "    <tr style=\"text-align: right;\">\n",
       "      <th></th>\n",
       "      <th>Lat</th>\n",
       "      <th>Lon</th>\n",
       "      <th>dayofweek</th>\n",
       "    </tr>\n",
       "  </thead>\n",
       "  <tbody>\n",
       "    <tr>\n",
       "      <th>473642</th>\n",
       "      <td>40.7947</td>\n",
       "      <td>-73.9323</td>\n",
       "      <td>6</td>\n",
       "    </tr>\n",
       "    <tr>\n",
       "      <th>109267</th>\n",
       "      <td>40.7522</td>\n",
       "      <td>-73.9914</td>\n",
       "      <td>1</td>\n",
       "    </tr>\n",
       "    <tr>\n",
       "      <th>237669</th>\n",
       "      <td>40.7249</td>\n",
       "      <td>-74.0028</td>\n",
       "      <td>5</td>\n",
       "    </tr>\n",
       "    <tr>\n",
       "      <th>99015</th>\n",
       "      <td>40.7281</td>\n",
       "      <td>-74.0055</td>\n",
       "      <td>6</td>\n",
       "    </tr>\n",
       "    <tr>\n",
       "      <th>487876</th>\n",
       "      <td>40.7177</td>\n",
       "      <td>-73.7764</td>\n",
       "      <td>2</td>\n",
       "    </tr>\n",
       "  </tbody>\n",
       "</table>\n",
       "</div>"
      ],
      "text/plain": [
       "            Lat      Lon  dayofweek\n",
       "473642  40.7947 -73.9323          6\n",
       "109267  40.7522 -73.9914          1\n",
       "237669  40.7249 -74.0028          5\n",
       "99015   40.7281 -74.0055          6\n",
       "487876  40.7177 -73.7764          2"
      ]
     },
     "execution_count": 12,
     "metadata": {},
     "output_type": "execute_result"
    }
   ],
   "source": [
    "df_apr_14.head()"
   ]
  },
  {
   "cell_type": "markdown",
   "metadata": {},
   "source": [
    "### A try with Kmeans"
   ]
  },
  {
   "cell_type": "code",
   "execution_count": 13,
   "metadata": {},
   "outputs": [],
   "source": [
    "numeric_scaler = StandardScaler()"
   ]
  },
  {
   "cell_type": "code",
   "execution_count": 14,
   "metadata": {},
   "outputs": [],
   "source": [
    "X = numeric_scaler.fit_transform(df_apr_14[['Lat', 'Lon']])"
   ]
  },
  {
   "cell_type": "code",
   "execution_count": 15,
   "metadata": {},
   "outputs": [
    {
     "data": {
      "text/plain": [
       "array([[ 1.55161407,  0.88404626],\n",
       "       [ 0.35414163, -0.29325286],\n",
       "       [-0.41505832, -0.52034609],\n",
       "       [-0.32489569, -0.57413133],\n",
       "       [-0.61792424,  3.98964579],\n",
       "       [ 1.28957892,  0.14898133],\n",
       "       [ 0.25834383, -0.53229837]])"
      ]
     },
     "execution_count": 15,
     "metadata": {},
     "output_type": "execute_result"
    }
   ],
   "source": [
    "X[:7]"
   ]
  },
  {
   "cell_type": "code",
   "execution_count": 16,
   "metadata": {},
   "outputs": [
    {
     "name": "stderr",
     "output_type": "stream",
     "text": [
      "C:\\Users\\Bastien\\AppData\\Local\\Temp/ipykernel_1204/899639310.py:4: SettingWithCopyWarning:\n",
      "\n",
      "\n",
      "A value is trying to be set on a copy of a slice from a DataFrame.\n",
      "Try using .loc[row_indexer,col_indexer] = value instead\n",
      "\n",
      "See the caveats in the documentation: https://pandas.pydata.org/pandas-docs/stable/user_guide/indexing.html#returning-a-view-versus-a-copy\n",
      "\n"
     ]
    },
    {
     "data": {
      "text/html": [
       "<div>\n",
       "<style scoped>\n",
       "    .dataframe tbody tr th:only-of-type {\n",
       "        vertical-align: middle;\n",
       "    }\n",
       "\n",
       "    .dataframe tbody tr th {\n",
       "        vertical-align: top;\n",
       "    }\n",
       "\n",
       "    .dataframe thead th {\n",
       "        text-align: right;\n",
       "    }\n",
       "</style>\n",
       "<table border=\"1\" class=\"dataframe\">\n",
       "  <thead>\n",
       "    <tr style=\"text-align: right;\">\n",
       "      <th></th>\n",
       "      <th>Lat</th>\n",
       "      <th>Lon</th>\n",
       "      <th>dayofweek</th>\n",
       "      <th>predictions</th>\n",
       "    </tr>\n",
       "  </thead>\n",
       "  <tbody>\n",
       "    <tr>\n",
       "      <th>473642</th>\n",
       "      <td>40.7947</td>\n",
       "      <td>-73.9323</td>\n",
       "      <td>6</td>\n",
       "      <td>3</td>\n",
       "    </tr>\n",
       "    <tr>\n",
       "      <th>109267</th>\n",
       "      <td>40.7522</td>\n",
       "      <td>-73.9914</td>\n",
       "      <td>1</td>\n",
       "      <td>0</td>\n",
       "    </tr>\n",
       "    <tr>\n",
       "      <th>237669</th>\n",
       "      <td>40.7249</td>\n",
       "      <td>-74.0028</td>\n",
       "      <td>5</td>\n",
       "      <td>4</td>\n",
       "    </tr>\n",
       "    <tr>\n",
       "      <th>99015</th>\n",
       "      <td>40.7281</td>\n",
       "      <td>-74.0055</td>\n",
       "      <td>6</td>\n",
       "      <td>4</td>\n",
       "    </tr>\n",
       "    <tr>\n",
       "      <th>487876</th>\n",
       "      <td>40.7177</td>\n",
       "      <td>-73.7764</td>\n",
       "      <td>2</td>\n",
       "      <td>2</td>\n",
       "    </tr>\n",
       "  </tbody>\n",
       "</table>\n",
       "</div>"
      ],
      "text/plain": [
       "            Lat      Lon  dayofweek  predictions\n",
       "473642  40.7947 -73.9323          6            3\n",
       "109267  40.7522 -73.9914          1            0\n",
       "237669  40.7249 -74.0028          5            4\n",
       "99015   40.7281 -74.0055          6            4\n",
       "487876  40.7177 -73.7764          2            2"
      ]
     },
     "execution_count": 16,
     "metadata": {},
     "output_type": "execute_result"
    }
   ],
   "source": [
    "kmeans = KMeans(6, random_state=0)\n",
    "kmeans.fit(X)\n",
    "predictions = kmeans.predict(X)\n",
    "df_apr_14['predictions'] = predictions.copy()\n",
    "df_apr_14.head()"
   ]
  },
  {
   "cell_type": "code",
   "execution_count": 17,
   "metadata": {},
   "outputs": [
    {
     "data": {
      "text/plain": [
       "4    4455\n",
       "0    3955\n",
       "1     895\n",
       "3     366\n",
       "2     262\n",
       "5      67\n",
       "Name: predictions, dtype: int64"
      ]
     },
     "execution_count": 17,
     "metadata": {},
     "output_type": "execute_result"
    }
   ],
   "source": [
    "df_apr_14['predictions'].value_counts()"
   ]
  },
  {
   "cell_type": "code",
   "execution_count": 18,
   "metadata": {},
   "outputs": [
    {
     "data": {
      "text/html": [
       "<iframe\n",
       "    scrolling=\"no\"\n",
       "    width=\"100%\"\n",
       "    height=\"545px\"\n",
       "    src=\"iframe_figures/figure_18.html\"\n",
       "    frameborder=\"0\"\n",
       "    allowfullscreen\n",
       "></iframe>\n"
      ]
     },
     "metadata": {},
     "output_type": "display_data"
    }
   ],
   "source": [
    "fig = px.scatter_mapbox(df_apr_14, lat=\"Lat\", lon=\"Lon\", color=\"predictions\", mapbox_style='carto-positron')\n",
    "fig.show()"
   ]
  },
  {
   "cell_type": "markdown",
   "metadata": {},
   "source": [
    "Kmeans is usefull to make a separation but it does not inform about the density of requests : it will not help us identify zones with lots of requests, and eventualy we could get to a situation where we do not have enough drivers in hot areas.\n",
    "\n",
    "For example, we can see that cluster representing the North of Brooklyn seems dense in some sub-areas and very sparse in others : this cluster does not provide much information as it is.\n",
    "\n",
    "We will use DBSCAN to find the hot zones."
   ]
  },
  {
   "cell_type": "markdown",
   "metadata": {},
   "source": [
    "### More EDA"
   ]
  },
  {
   "cell_type": "markdown",
   "metadata": {},
   "source": [
    "We charge the whole dataset again :"
   ]
  },
  {
   "cell_type": "code",
   "execution_count": 19,
   "metadata": {},
   "outputs": [
    {
     "data": {
      "text/html": [
       "<div>\n",
       "<style scoped>\n",
       "    .dataframe tbody tr th:only-of-type {\n",
       "        vertical-align: middle;\n",
       "    }\n",
       "\n",
       "    .dataframe tbody tr th {\n",
       "        vertical-align: top;\n",
       "    }\n",
       "\n",
       "    .dataframe thead th {\n",
       "        text-align: right;\n",
       "    }\n",
       "</style>\n",
       "<table border=\"1\" class=\"dataframe\">\n",
       "  <thead>\n",
       "    <tr style=\"text-align: right;\">\n",
       "      <th></th>\n",
       "      <th>Date/Time</th>\n",
       "      <th>Lat</th>\n",
       "      <th>Lon</th>\n",
       "      <th>Base</th>\n",
       "    </tr>\n",
       "  </thead>\n",
       "  <tbody>\n",
       "    <tr>\n",
       "      <th>0</th>\n",
       "      <td>2014-04-01 00:11:00</td>\n",
       "      <td>40.7690</td>\n",
       "      <td>-73.9549</td>\n",
       "      <td>B02512</td>\n",
       "    </tr>\n",
       "    <tr>\n",
       "      <th>1</th>\n",
       "      <td>2014-04-01 00:17:00</td>\n",
       "      <td>40.7267</td>\n",
       "      <td>-74.0345</td>\n",
       "      <td>B02512</td>\n",
       "    </tr>\n",
       "    <tr>\n",
       "      <th>2</th>\n",
       "      <td>2014-04-01 00:21:00</td>\n",
       "      <td>40.7316</td>\n",
       "      <td>-73.9873</td>\n",
       "      <td>B02512</td>\n",
       "    </tr>\n",
       "    <tr>\n",
       "      <th>3</th>\n",
       "      <td>2014-04-01 00:28:00</td>\n",
       "      <td>40.7588</td>\n",
       "      <td>-73.9776</td>\n",
       "      <td>B02512</td>\n",
       "    </tr>\n",
       "    <tr>\n",
       "      <th>4</th>\n",
       "      <td>2014-04-01 00:33:00</td>\n",
       "      <td>40.7594</td>\n",
       "      <td>-73.9722</td>\n",
       "      <td>B02512</td>\n",
       "    </tr>\n",
       "  </tbody>\n",
       "</table>\n",
       "</div>"
      ],
      "text/plain": [
       "            Date/Time      Lat      Lon    Base\n",
       "0 2014-04-01 00:11:00  40.7690 -73.9549  B02512\n",
       "1 2014-04-01 00:17:00  40.7267 -74.0345  B02512\n",
       "2 2014-04-01 00:21:00  40.7316 -73.9873  B02512\n",
       "3 2014-04-01 00:28:00  40.7588 -73.9776  B02512\n",
       "4 2014-04-01 00:33:00  40.7594 -73.9722  B02512"
      ]
     },
     "execution_count": 19,
     "metadata": {},
     "output_type": "execute_result"
    }
   ],
   "source": [
    "df_apr_14 = pd.read_csv('uber-raw-data-apr14.csv')\n",
    "df_apr_14['Date/Time'] = pd.to_datetime(df_apr_14['Date/Time'])\n",
    "df_apr_14.head(5)"
   ]
  },
  {
   "cell_type": "markdown",
   "metadata": {},
   "source": [
    "We want to look at the repartition of Uber requests depending on hour of the day, in order to identify the most crucial timings :"
   ]
  },
  {
   "cell_type": "code",
   "execution_count": 20,
   "metadata": {},
   "outputs": [
    {
     "data": {
      "image/png": "[encoded data removed]",
      "text/plain": [
       "<Figure size 1440x720 with 1 Axes>"
      ]
     },
     "metadata": {
      "needs_background": "light"
     },
     "output_type": "display_data"
    }
   ],
   "source": [
    "\n",
    "df_apr_14['hour'] = df_apr_14['Date/Time'].dt.hour\n",
    "\n",
    "\n",
    "fig = plt.figure(1, figsize=(20, 10))\n",
    "\n",
    "sns.histplot(data = df_apr_14, x = 'hour' )\n",
    "\n",
    "plt.title('Hour repartition of Uber requests for all days - April 2014', fontsize = 35)\n",
    "plt.xlabel('Hour of the day', fontdict={'size' : 25})\n",
    "plt.xticks([x for x in range(24)], fontsize = 20)\n",
    "plt.ylabel('Count', fontdict={'size' : 25})\n",
    "plt.yticks(fontsize = 20)\n",
    "\n",
    "plt.show()"
   ]
  },
  {
   "cell_type": "markdown",
   "metadata": {},
   "source": [
    "We observe (on April 2014 dataset) :\n",
    "- fewer demand before 5 am\n",
    "- an increase in requests starting around 5 am and then stagning from 9 to 12\n",
    "- a new increase until 17\n",
    "- a global decrease until the end of the day\n",
    "\n",
    "Before going further, let's see if we have a different behaviour for the different days of the week :"
   ]
  },
  {
   "cell_type": "code",
   "execution_count": 21,
   "metadata": {},
   "outputs": [
    {
     "data": {
      "image/png": "[encoded data removed]",
      "text/plain": [
       "<Figure size 1296x720 with 1 Axes>"
      ]
     },
     "metadata": {
      "needs_background": "light"
     },
     "output_type": "display_data"
    }
   ],
   "source": [
    "\n",
    "df_apr_14['dayoftheweek'] = df_apr_14['Date/Time'].dt.dayofweek\n",
    "\n",
    "\n",
    "fig = plt.figure(1, figsize=(18, 10))\n",
    "\n",
    "sns.histplot(data = df_apr_14[df_apr_14['dayoftheweek']<4], x = 'hour', hue = 'dayoftheweek' , multiple=\"dodge\",  shrink=2.5)\n",
    "\n",
    "plt.title('Hour repartition of Uber requests for all days - April 2014', fontsize = 35)\n",
    "plt.xlabel('Hour of the day', fontdict={'size' : 25})\n",
    "plt.xticks([x for x in range(24)], fontsize = 20)\n",
    "plt.ylabel('Count', fontdict={'size' : 25})\n",
    "plt.yticks(fontsize = 20)\n",
    "\n",
    "plt.show()"
   ]
  },
  {
   "cell_type": "code",
   "execution_count": null,
   "metadata": {},
   "outputs": [],
   "source": []
  },
  {
   "cell_type": "code",
   "execution_count": 22,
   "metadata": {},
   "outputs": [
    {
     "data": {
      "image/png": "[encoded data removed]",
      "text/plain": [
       "<Figure size 1296x720 with 1 Axes>"
      ]
     },
     "metadata": {
      "needs_background": "light"
     },
     "output_type": "display_data"
    }
   ],
   "source": [
    "\n",
    "df_apr_14['dayoftheweek'] = df_apr_14['Date/Time'].dt.dayofweek\n",
    "\n",
    "\n",
    "fig = plt.figure(1, figsize=(18, 10))\n",
    "\n",
    "sns.histplot(data = df_apr_14[(df_apr_14['dayoftheweek']<10) & (df_apr_14['dayoftheweek']>2)], x = 'hour', hue = 'dayoftheweek' , multiple=\"dodge\",  shrink=2.5)\n",
    "\n",
    "plt.title('Hour repartition of Uber requests for all days - April 2014', fontsize = 35)\n",
    "plt.xlabel('Hour of the day', fontdict={'size' : 25})\n",
    "plt.xticks([x for x in range(24)], fontsize = 20)\n",
    "plt.ylabel('Count', fontdict={'size' : 25})\n",
    "plt.yticks(fontsize = 20)\n",
    "\n",
    "plt.show()"
   ]
  },
  {
   "cell_type": "code",
   "execution_count": 23,
   "metadata": {},
   "outputs": [
    {
     "data": {
      "text/html": [
       "<div>\n",
       "<style scoped>\n",
       "    .dataframe tbody tr th:only-of-type {\n",
       "        vertical-align: middle;\n",
       "    }\n",
       "\n",
       "    .dataframe tbody tr th {\n",
       "        vertical-align: top;\n",
       "    }\n",
       "\n",
       "    .dataframe thead th {\n",
       "        text-align: right;\n",
       "    }\n",
       "</style>\n",
       "<table border=\"1\" class=\"dataframe\">\n",
       "  <thead>\n",
       "    <tr style=\"text-align: right;\">\n",
       "      <th></th>\n",
       "      <th>dayoftheweek</th>\n",
       "      <th>hour</th>\n",
       "      <th>count</th>\n",
       "    </tr>\n",
       "  </thead>\n",
       "  <tbody>\n",
       "    <tr>\n",
       "      <th>0</th>\n",
       "      <td>0</td>\n",
       "      <td>0</td>\n",
       "      <td>518</td>\n",
       "    </tr>\n",
       "    <tr>\n",
       "      <th>1</th>\n",
       "      <td>0</td>\n",
       "      <td>1</td>\n",
       "      <td>261</td>\n",
       "    </tr>\n",
       "    <tr>\n",
       "      <th>2</th>\n",
       "      <td>0</td>\n",
       "      <td>2</td>\n",
       "      <td>238</td>\n",
       "    </tr>\n",
       "    <tr>\n",
       "      <th>3</th>\n",
       "      <td>0</td>\n",
       "      <td>3</td>\n",
       "      <td>571</td>\n",
       "    </tr>\n",
       "    <tr>\n",
       "      <th>4</th>\n",
       "      <td>0</td>\n",
       "      <td>4</td>\n",
       "      <td>1021</td>\n",
       "    </tr>\n",
       "    <tr>\n",
       "      <th>...</th>\n",
       "      <td>...</td>\n",
       "      <td>...</td>\n",
       "      <td>...</td>\n",
       "    </tr>\n",
       "    <tr>\n",
       "      <th>163</th>\n",
       "      <td>6</td>\n",
       "      <td>19</td>\n",
       "      <td>2579</td>\n",
       "    </tr>\n",
       "    <tr>\n",
       "      <th>164</th>\n",
       "      <td>6</td>\n",
       "      <td>20</td>\n",
       "      <td>2276</td>\n",
       "    </tr>\n",
       "    <tr>\n",
       "      <th>165</th>\n",
       "      <td>6</td>\n",
       "      <td>21</td>\n",
       "      <td>2310</td>\n",
       "    </tr>\n",
       "    <tr>\n",
       "      <th>166</th>\n",
       "      <td>6</td>\n",
       "      <td>22</td>\n",
       "      <td>1639</td>\n",
       "    </tr>\n",
       "    <tr>\n",
       "      <th>167</th>\n",
       "      <td>6</td>\n",
       "      <td>23</td>\n",
       "      <td>1018</td>\n",
       "    </tr>\n",
       "  </tbody>\n",
       "</table>\n",
       "<p>168 rows × 3 columns</p>\n",
       "</div>"
      ],
      "text/plain": [
       "     dayoftheweek  hour  count\n",
       "0               0     0    518\n",
       "1               0     1    261\n",
       "2               0     2    238\n",
       "3               0     3    571\n",
       "4               0     4   1021\n",
       "..            ...   ...    ...\n",
       "163             6    19   2579\n",
       "164             6    20   2276\n",
       "165             6    21   2310\n",
       "166             6    22   1639\n",
       "167             6    23   1018\n",
       "\n",
       "[168 rows x 3 columns]"
      ]
     },
     "execution_count": 23,
     "metadata": {},
     "output_type": "execute_result"
    }
   ],
   "source": [
    "df_grouped = df_apr_14.groupby(['dayoftheweek', 'hour']).count().reset_index()[['dayoftheweek', 'hour', 'Lat']].rename(columns = {'Lat' : 'count'})\n",
    "df_grouped"
   ]
  },
  {
   "cell_type": "code",
   "execution_count": 24,
   "metadata": {},
   "outputs": [
    {
     "data": {
      "text/html": [
       "<div>\n",
       "<style scoped>\n",
       "    .dataframe tbody tr th:only-of-type {\n",
       "        vertical-align: middle;\n",
       "    }\n",
       "\n",
       "    .dataframe tbody tr th {\n",
       "        vertical-align: top;\n",
       "    }\n",
       "\n",
       "    .dataframe thead th {\n",
       "        text-align: right;\n",
       "    }\n",
       "</style>\n",
       "<table border=\"1\" class=\"dataframe\">\n",
       "  <thead>\n",
       "    <tr style=\"text-align: right;\">\n",
       "      <th></th>\n",
       "      <th>dayoftheweek</th>\n",
       "      <th>hour</th>\n",
       "      <th>count</th>\n",
       "      <th>total_appearance_by_day</th>\n",
       "      <th>frequency_appearance_by_day</th>\n",
       "    </tr>\n",
       "  </thead>\n",
       "  <tbody>\n",
       "    <tr>\n",
       "      <th>0</th>\n",
       "      <td>0</td>\n",
       "      <td>0</td>\n",
       "      <td>518</td>\n",
       "      <td>60861</td>\n",
       "      <td>0.008511</td>\n",
       "    </tr>\n",
       "    <tr>\n",
       "      <th>1</th>\n",
       "      <td>0</td>\n",
       "      <td>1</td>\n",
       "      <td>261</td>\n",
       "      <td>60861</td>\n",
       "      <td>0.004288</td>\n",
       "    </tr>\n",
       "    <tr>\n",
       "      <th>2</th>\n",
       "      <td>0</td>\n",
       "      <td>2</td>\n",
       "      <td>238</td>\n",
       "      <td>60861</td>\n",
       "      <td>0.003911</td>\n",
       "    </tr>\n",
       "    <tr>\n",
       "      <th>3</th>\n",
       "      <td>0</td>\n",
       "      <td>3</td>\n",
       "      <td>571</td>\n",
       "      <td>60861</td>\n",
       "      <td>0.009382</td>\n",
       "    </tr>\n",
       "    <tr>\n",
       "      <th>4</th>\n",
       "      <td>0</td>\n",
       "      <td>4</td>\n",
       "      <td>1021</td>\n",
       "      <td>60861</td>\n",
       "      <td>0.016776</td>\n",
       "    </tr>\n",
       "    <tr>\n",
       "      <th>5</th>\n",
       "      <td>0</td>\n",
       "      <td>5</td>\n",
       "      <td>1619</td>\n",
       "      <td>60861</td>\n",
       "      <td>0.026602</td>\n",
       "    </tr>\n",
       "    <tr>\n",
       "      <th>6</th>\n",
       "      <td>0</td>\n",
       "      <td>6</td>\n",
       "      <td>2974</td>\n",
       "      <td>60861</td>\n",
       "      <td>0.048865</td>\n",
       "    </tr>\n",
       "    <tr>\n",
       "      <th>7</th>\n",
       "      <td>0</td>\n",
       "      <td>7</td>\n",
       "      <td>3888</td>\n",
       "      <td>60861</td>\n",
       "      <td>0.063883</td>\n",
       "    </tr>\n",
       "    <tr>\n",
       "      <th>8</th>\n",
       "      <td>0</td>\n",
       "      <td>8</td>\n",
       "      <td>3138</td>\n",
       "      <td>60861</td>\n",
       "      <td>0.051560</td>\n",
       "    </tr>\n",
       "    <tr>\n",
       "      <th>9</th>\n",
       "      <td>0</td>\n",
       "      <td>9</td>\n",
       "      <td>2211</td>\n",
       "      <td>60861</td>\n",
       "      <td>0.036329</td>\n",
       "    </tr>\n",
       "  </tbody>\n",
       "</table>\n",
       "</div>"
      ],
      "text/plain": [
       "   dayoftheweek  hour  count  total_appearance_by_day  \\\n",
       "0             0     0    518                    60861   \n",
       "1             0     1    261                    60861   \n",
       "2             0     2    238                    60861   \n",
       "3             0     3    571                    60861   \n",
       "4             0     4   1021                    60861   \n",
       "5             0     5   1619                    60861   \n",
       "6             0     6   2974                    60861   \n",
       "7             0     7   3888                    60861   \n",
       "8             0     8   3138                    60861   \n",
       "9             0     9   2211                    60861   \n",
       "\n",
       "   frequency_appearance_by_day  \n",
       "0                     0.008511  \n",
       "1                     0.004288  \n",
       "2                     0.003911  \n",
       "3                     0.009382  \n",
       "4                     0.016776  \n",
       "5                     0.026602  \n",
       "6                     0.048865  \n",
       "7                     0.063883  \n",
       "8                     0.051560  \n",
       "9                     0.036329  "
      ]
     },
     "execution_count": 24,
     "metadata": {},
     "output_type": "execute_result"
    }
   ],
   "source": [
    "total_counts_per_day = []\n",
    "\n",
    "for i in range(7):\n",
    "    total_counts_per_day.append(df_grouped[df_grouped['dayoftheweek'] == i]['count'].sum())\n",
    "\n",
    "df_grouped['total_appearance_by_day'] = df_grouped['dayoftheweek'].apply(lambda x : total_counts_per_day[x])\n",
    "df_grouped['frequency_appearance_by_day'] = df_grouped['count'] / df_grouped['total_appearance_by_day']\n",
    "df_grouped.head(10)"
   ]
  },
  {
   "cell_type": "code",
   "execution_count": 25,
   "metadata": {},
   "outputs": [
    {
     "data": {
      "image/png": "[encoded data removed]",
      "text/plain": [
       "<Figure size 1158.38x360 with 1 Axes>"
      ]
     },
     "metadata": {
      "needs_background": "light"
     },
     "output_type": "display_data"
    }
   ],
   "source": [
    "\n",
    "sns.catplot(data = df_grouped, x = 'hour', y = 'frequency_appearance_by_day', hue = 'dayoftheweek' , kind = 'bar', aspect = 3)\n",
    "\n",
    "plt.title('Hour repartition of Uber requests for all days - April 2014', fontsize = 35)\n",
    "plt.xlabel('Hour of the day', fontdict={'size' : 25})\n",
    "plt.xticks([x for x in range(24)], fontsize = 20)\n",
    "plt.ylabel('Frequency', fontdict={'size' : 25})\n",
    "plt.yticks(fontsize = 20)\n",
    "\n",
    "plt.show()"
   ]
  },
  {
   "cell_type": "markdown",
   "metadata": {},
   "source": [
    "<b>Observations :</b>\n",
    "- from 0 am to 2 am : most of the days have few proportion in this time slot, except for Saturdays and Sundays which have an important proportion here (due obviously to people who go out later on weekends)\n",
    "- from 3 to 5 am : no much to say, proportion is low for every day of the week\n",
    "- from 6 to 8 am : requests are important in working days but much lower in Saturdays and Sundays\n",
    "- from 9 am to 4 pm : the repartition is the same for all days of week\n",
    "- from 5 to 8 pm : all days are almost equals, except for Sundays which are lower\n",
    "- end of the day (10, 11 pm) : mostly Fridays and Saturdays. Thursday is also present at 22 !"
   ]
  },
  {
   "cell_type": "markdown",
   "metadata": {},
   "source": [
    "We observed the data relatively for each day of the week in order to see trends for a given day of the week :\n",
    "for example, if a Uber driver wants to work on a saturday, he might except more customers at 5pm than 7am.\n",
    "\n",
    "But we would also like to compare the days one to another. We would like to answer the question : is it better to work on a sunday or a monday ?\n",
    "\n",
    "For this purpose we must do another visualization :"
   ]
  },
  {
   "cell_type": "code",
   "execution_count": 26,
   "metadata": {},
   "outputs": [],
   "source": [
    "df_apr_14['date'] = df_apr_14['Date/Time'].dt.date"
   ]
  },
  {
   "cell_type": "code",
   "execution_count": 27,
   "metadata": {},
   "outputs": [
    {
     "data": {
      "text/plain": [
       "1    5\n",
       "2    5\n",
       "3    4\n",
       "4    4\n",
       "5    4\n",
       "6    4\n",
       "0    4\n",
       "Name: dayofweek, dtype: int64"
      ]
     },
     "execution_count": 27,
     "metadata": {},
     "output_type": "execute_result"
    }
   ],
   "source": [
    "df_dates = pd.DataFrame(df_apr_14['date'].unique())\n",
    "df_dates['dayofweek'] = pd.to_datetime(df_dates[0]).dt.dayofweek\n",
    "df_dates['dayofweek'].value_counts()"
   ]
  },
  {
   "cell_type": "markdown",
   "metadata": {},
   "source": [
    "We have (in April dataset) :\n",
    "- 5 appearances of Tuesday and Wednesday\n",
    "- 4 appearances of all the other days of the week"
   ]
  },
  {
   "cell_type": "markdown",
   "metadata": {},
   "source": [
    "Let us make a new column in our 'grouped' dataset by dividing the number of requests for each day by the number of appearances of each day of the week :"
   ]
  },
  {
   "cell_type": "code",
   "execution_count": 28,
   "metadata": {},
   "outputs": [
    {
     "data": {
      "text/plain": [
       "[4, 5, 5, 4, 4, 4, 4]"
      ]
     },
     "execution_count": 28,
     "metadata": {},
     "output_type": "execute_result"
    }
   ],
   "source": [
    "nb_days_appearances = []\n",
    "\n",
    "for i in range(7) :\n",
    "    nb_days_appearances.append(df_dates['dayofweek'].value_counts()[i])\n",
    "    \n",
    "nb_days_appearances\n"
   ]
  },
  {
   "cell_type": "code",
   "execution_count": 29,
   "metadata": {},
   "outputs": [
    {
     "data": {
      "text/html": [
       "<div>\n",
       "<style scoped>\n",
       "    .dataframe tbody tr th:only-of-type {\n",
       "        vertical-align: middle;\n",
       "    }\n",
       "\n",
       "    .dataframe tbody tr th {\n",
       "        vertical-align: top;\n",
       "    }\n",
       "\n",
       "    .dataframe thead th {\n",
       "        text-align: right;\n",
       "    }\n",
       "</style>\n",
       "<table border=\"1\" class=\"dataframe\">\n",
       "  <thead>\n",
       "    <tr style=\"text-align: right;\">\n",
       "      <th></th>\n",
       "      <th>dayoftheweek</th>\n",
       "      <th>hour</th>\n",
       "      <th>count</th>\n",
       "      <th>total_appearance_by_day</th>\n",
       "      <th>frequency_appearance_by_day</th>\n",
       "    </tr>\n",
       "  </thead>\n",
       "  <tbody>\n",
       "    <tr>\n",
       "      <th>0</th>\n",
       "      <td>0</td>\n",
       "      <td>0</td>\n",
       "      <td>518</td>\n",
       "      <td>60861</td>\n",
       "      <td>0.008511</td>\n",
       "    </tr>\n",
       "    <tr>\n",
       "      <th>1</th>\n",
       "      <td>0</td>\n",
       "      <td>1</td>\n",
       "      <td>261</td>\n",
       "      <td>60861</td>\n",
       "      <td>0.004288</td>\n",
       "    </tr>\n",
       "    <tr>\n",
       "      <th>2</th>\n",
       "      <td>0</td>\n",
       "      <td>2</td>\n",
       "      <td>238</td>\n",
       "      <td>60861</td>\n",
       "      <td>0.003911</td>\n",
       "    </tr>\n",
       "    <tr>\n",
       "      <th>3</th>\n",
       "      <td>0</td>\n",
       "      <td>3</td>\n",
       "      <td>571</td>\n",
       "      <td>60861</td>\n",
       "      <td>0.009382</td>\n",
       "    </tr>\n",
       "    <tr>\n",
       "      <th>4</th>\n",
       "      <td>0</td>\n",
       "      <td>4</td>\n",
       "      <td>1021</td>\n",
       "      <td>60861</td>\n",
       "      <td>0.016776</td>\n",
       "    </tr>\n",
       "  </tbody>\n",
       "</table>\n",
       "</div>"
      ],
      "text/plain": [
       "   dayoftheweek  hour  count  total_appearance_by_day  \\\n",
       "0             0     0    518                    60861   \n",
       "1             0     1    261                    60861   \n",
       "2             0     2    238                    60861   \n",
       "3             0     3    571                    60861   \n",
       "4             0     4   1021                    60861   \n",
       "\n",
       "   frequency_appearance_by_day  \n",
       "0                     0.008511  \n",
       "1                     0.004288  \n",
       "2                     0.003911  \n",
       "3                     0.009382  \n",
       "4                     0.016776  "
      ]
     },
     "execution_count": 29,
     "metadata": {},
     "output_type": "execute_result"
    }
   ],
   "source": [
    "df_grouped.head()"
   ]
  },
  {
   "cell_type": "code",
   "execution_count": 30,
   "metadata": {},
   "outputs": [
    {
     "data": {
      "text/html": [
       "<div>\n",
       "<style scoped>\n",
       "    .dataframe tbody tr th:only-of-type {\n",
       "        vertical-align: middle;\n",
       "    }\n",
       "\n",
       "    .dataframe tbody tr th {\n",
       "        vertical-align: top;\n",
       "    }\n",
       "\n",
       "    .dataframe thead th {\n",
       "        text-align: right;\n",
       "    }\n",
       "</style>\n",
       "<table border=\"1\" class=\"dataframe\">\n",
       "  <thead>\n",
       "    <tr style=\"text-align: right;\">\n",
       "      <th></th>\n",
       "      <th>dayoftheweek</th>\n",
       "      <th>hour</th>\n",
       "      <th>count</th>\n",
       "      <th>total_appearance_by_day</th>\n",
       "      <th>frequency_appearance_by_day</th>\n",
       "      <th>apparances_day_of_week</th>\n",
       "    </tr>\n",
       "  </thead>\n",
       "  <tbody>\n",
       "    <tr>\n",
       "      <th>158</th>\n",
       "      <td>6</td>\n",
       "      <td>14</td>\n",
       "      <td>2934</td>\n",
       "      <td>51251</td>\n",
       "      <td>0.057248</td>\n",
       "      <td>4</td>\n",
       "    </tr>\n",
       "    <tr>\n",
       "      <th>159</th>\n",
       "      <td>6</td>\n",
       "      <td>15</td>\n",
       "      <td>3400</td>\n",
       "      <td>51251</td>\n",
       "      <td>0.066340</td>\n",
       "      <td>4</td>\n",
       "    </tr>\n",
       "    <tr>\n",
       "      <th>160</th>\n",
       "      <td>6</td>\n",
       "      <td>16</td>\n",
       "      <td>3489</td>\n",
       "      <td>51251</td>\n",
       "      <td>0.068077</td>\n",
       "      <td>4</td>\n",
       "    </tr>\n",
       "    <tr>\n",
       "      <th>161</th>\n",
       "      <td>6</td>\n",
       "      <td>17</td>\n",
       "      <td>3154</td>\n",
       "      <td>51251</td>\n",
       "      <td>0.061540</td>\n",
       "      <td>4</td>\n",
       "    </tr>\n",
       "    <tr>\n",
       "      <th>162</th>\n",
       "      <td>6</td>\n",
       "      <td>18</td>\n",
       "      <td>2795</td>\n",
       "      <td>51251</td>\n",
       "      <td>0.054536</td>\n",
       "      <td>4</td>\n",
       "    </tr>\n",
       "    <tr>\n",
       "      <th>163</th>\n",
       "      <td>6</td>\n",
       "      <td>19</td>\n",
       "      <td>2579</td>\n",
       "      <td>51251</td>\n",
       "      <td>0.050321</td>\n",
       "      <td>4</td>\n",
       "    </tr>\n",
       "    <tr>\n",
       "      <th>164</th>\n",
       "      <td>6</td>\n",
       "      <td>20</td>\n",
       "      <td>2276</td>\n",
       "      <td>51251</td>\n",
       "      <td>0.044409</td>\n",
       "      <td>4</td>\n",
       "    </tr>\n",
       "    <tr>\n",
       "      <th>165</th>\n",
       "      <td>6</td>\n",
       "      <td>21</td>\n",
       "      <td>2310</td>\n",
       "      <td>51251</td>\n",
       "      <td>0.045072</td>\n",
       "      <td>4</td>\n",
       "    </tr>\n",
       "    <tr>\n",
       "      <th>166</th>\n",
       "      <td>6</td>\n",
       "      <td>22</td>\n",
       "      <td>1639</td>\n",
       "      <td>51251</td>\n",
       "      <td>0.031980</td>\n",
       "      <td>4</td>\n",
       "    </tr>\n",
       "    <tr>\n",
       "      <th>167</th>\n",
       "      <td>6</td>\n",
       "      <td>23</td>\n",
       "      <td>1018</td>\n",
       "      <td>51251</td>\n",
       "      <td>0.019863</td>\n",
       "      <td>4</td>\n",
       "    </tr>\n",
       "  </tbody>\n",
       "</table>\n",
       "</div>"
      ],
      "text/plain": [
       "     dayoftheweek  hour  count  total_appearance_by_day  \\\n",
       "158             6    14   2934                    51251   \n",
       "159             6    15   3400                    51251   \n",
       "160             6    16   3489                    51251   \n",
       "161             6    17   3154                    51251   \n",
       "162             6    18   2795                    51251   \n",
       "163             6    19   2579                    51251   \n",
       "164             6    20   2276                    51251   \n",
       "165             6    21   2310                    51251   \n",
       "166             6    22   1639                    51251   \n",
       "167             6    23   1018                    51251   \n",
       "\n",
       "     frequency_appearance_by_day  apparances_day_of_week  \n",
       "158                     0.057248                       4  \n",
       "159                     0.066340                       4  \n",
       "160                     0.068077                       4  \n",
       "161                     0.061540                       4  \n",
       "162                     0.054536                       4  \n",
       "163                     0.050321                       4  \n",
       "164                     0.044409                       4  \n",
       "165                     0.045072                       4  \n",
       "166                     0.031980                       4  \n",
       "167                     0.019863                       4  "
      ]
     },
     "execution_count": 30,
     "metadata": {},
     "output_type": "execute_result"
    }
   ],
   "source": [
    "df_grouped['apparances_day_of_week'] = df_grouped['dayoftheweek'].apply(lambda x : nb_days_appearances[x])\n",
    "df_grouped.tail(10)"
   ]
  },
  {
   "cell_type": "code",
   "execution_count": 31,
   "metadata": {},
   "outputs": [
    {
     "data": {
      "text/html": [
       "<div>\n",
       "<style scoped>\n",
       "    .dataframe tbody tr th:only-of-type {\n",
       "        vertical-align: middle;\n",
       "    }\n",
       "\n",
       "    .dataframe tbody tr th {\n",
       "        vertical-align: top;\n",
       "    }\n",
       "\n",
       "    .dataframe thead th {\n",
       "        text-align: right;\n",
       "    }\n",
       "</style>\n",
       "<table border=\"1\" class=\"dataframe\">\n",
       "  <thead>\n",
       "    <tr style=\"text-align: right;\">\n",
       "      <th></th>\n",
       "      <th>dayoftheweek</th>\n",
       "      <th>hour</th>\n",
       "      <th>count</th>\n",
       "      <th>total_appearance_by_day</th>\n",
       "      <th>frequency_appearance_by_day</th>\n",
       "      <th>apparances_day_of_week</th>\n",
       "      <th>frequency_apparances_by_day_of_week</th>\n",
       "    </tr>\n",
       "  </thead>\n",
       "  <tbody>\n",
       "    <tr>\n",
       "      <th>0</th>\n",
       "      <td>0</td>\n",
       "      <td>0</td>\n",
       "      <td>518</td>\n",
       "      <td>60861</td>\n",
       "      <td>0.008511</td>\n",
       "      <td>4</td>\n",
       "      <td>129.50</td>\n",
       "    </tr>\n",
       "    <tr>\n",
       "      <th>1</th>\n",
       "      <td>0</td>\n",
       "      <td>1</td>\n",
       "      <td>261</td>\n",
       "      <td>60861</td>\n",
       "      <td>0.004288</td>\n",
       "      <td>4</td>\n",
       "      <td>65.25</td>\n",
       "    </tr>\n",
       "    <tr>\n",
       "      <th>2</th>\n",
       "      <td>0</td>\n",
       "      <td>2</td>\n",
       "      <td>238</td>\n",
       "      <td>60861</td>\n",
       "      <td>0.003911</td>\n",
       "      <td>4</td>\n",
       "      <td>59.50</td>\n",
       "    </tr>\n",
       "    <tr>\n",
       "      <th>3</th>\n",
       "      <td>0</td>\n",
       "      <td>3</td>\n",
       "      <td>571</td>\n",
       "      <td>60861</td>\n",
       "      <td>0.009382</td>\n",
       "      <td>4</td>\n",
       "      <td>142.75</td>\n",
       "    </tr>\n",
       "    <tr>\n",
       "      <th>4</th>\n",
       "      <td>0</td>\n",
       "      <td>4</td>\n",
       "      <td>1021</td>\n",
       "      <td>60861</td>\n",
       "      <td>0.016776</td>\n",
       "      <td>4</td>\n",
       "      <td>255.25</td>\n",
       "    </tr>\n",
       "    <tr>\n",
       "      <th>5</th>\n",
       "      <td>0</td>\n",
       "      <td>5</td>\n",
       "      <td>1619</td>\n",
       "      <td>60861</td>\n",
       "      <td>0.026602</td>\n",
       "      <td>4</td>\n",
       "      <td>404.75</td>\n",
       "    </tr>\n",
       "    <tr>\n",
       "      <th>6</th>\n",
       "      <td>0</td>\n",
       "      <td>6</td>\n",
       "      <td>2974</td>\n",
       "      <td>60861</td>\n",
       "      <td>0.048865</td>\n",
       "      <td>4</td>\n",
       "      <td>743.50</td>\n",
       "    </tr>\n",
       "    <tr>\n",
       "      <th>7</th>\n",
       "      <td>0</td>\n",
       "      <td>7</td>\n",
       "      <td>3888</td>\n",
       "      <td>60861</td>\n",
       "      <td>0.063883</td>\n",
       "      <td>4</td>\n",
       "      <td>972.00</td>\n",
       "    </tr>\n",
       "    <tr>\n",
       "      <th>8</th>\n",
       "      <td>0</td>\n",
       "      <td>8</td>\n",
       "      <td>3138</td>\n",
       "      <td>60861</td>\n",
       "      <td>0.051560</td>\n",
       "      <td>4</td>\n",
       "      <td>784.50</td>\n",
       "    </tr>\n",
       "    <tr>\n",
       "      <th>9</th>\n",
       "      <td>0</td>\n",
       "      <td>9</td>\n",
       "      <td>2211</td>\n",
       "      <td>60861</td>\n",
       "      <td>0.036329</td>\n",
       "      <td>4</td>\n",
       "      <td>552.75</td>\n",
       "    </tr>\n",
       "  </tbody>\n",
       "</table>\n",
       "</div>"
      ],
      "text/plain": [
       "   dayoftheweek  hour  count  total_appearance_by_day  \\\n",
       "0             0     0    518                    60861   \n",
       "1             0     1    261                    60861   \n",
       "2             0     2    238                    60861   \n",
       "3             0     3    571                    60861   \n",
       "4             0     4   1021                    60861   \n",
       "5             0     5   1619                    60861   \n",
       "6             0     6   2974                    60861   \n",
       "7             0     7   3888                    60861   \n",
       "8             0     8   3138                    60861   \n",
       "9             0     9   2211                    60861   \n",
       "\n",
       "   frequency_appearance_by_day  apparances_day_of_week  \\\n",
       "0                     0.008511                       4   \n",
       "1                     0.004288                       4   \n",
       "2                     0.003911                       4   \n",
       "3                     0.009382                       4   \n",
       "4                     0.016776                       4   \n",
       "5                     0.026602                       4   \n",
       "6                     0.048865                       4   \n",
       "7                     0.063883                       4   \n",
       "8                     0.051560                       4   \n",
       "9                     0.036329                       4   \n",
       "\n",
       "   frequency_apparances_by_day_of_week  \n",
       "0                               129.50  \n",
       "1                                65.25  \n",
       "2                                59.50  \n",
       "3                               142.75  \n",
       "4                               255.25  \n",
       "5                               404.75  \n",
       "6                               743.50  \n",
       "7                               972.00  \n",
       "8                               784.50  \n",
       "9                               552.75  "
      ]
     },
     "execution_count": 31,
     "metadata": {},
     "output_type": "execute_result"
    }
   ],
   "source": [
    "df_grouped['frequency_apparances_by_day_of_week'] = df_grouped['count'] / df_grouped['apparances_day_of_week'] \n",
    "df_grouped.head(10)"
   ]
  },
  {
   "cell_type": "code",
   "execution_count": 32,
   "metadata": {},
   "outputs": [
    {
     "data": {
      "image/png": "[encoded data removed]",
      "text/plain": [
       "<Figure size 1158.38x360 with 1 Axes>"
      ]
     },
     "metadata": {
      "needs_background": "light"
     },
     "output_type": "display_data"
    }
   ],
   "source": [
    "\n",
    "sns.catplot(data = df_grouped, x = 'hour', y = 'frequency_apparances_by_day_of_week', hue = 'dayoftheweek' , kind = 'bar', aspect = 3)\n",
    "\n",
    "plt.title('Hour repartition of Uber requests for all days - April 2014', fontsize = 35)\n",
    "plt.xlabel('Hour of the day', fontdict={'size' : 25})\n",
    "plt.xticks([x for x in range(24)], fontsize = 20)\n",
    "plt.ylabel('Nb calls / nb each day of week in month', fontdict={'size' : 25})\n",
    "plt.yticks(fontsize = 20)\n",
    "\n",
    "plt.show()"
   ]
  },
  {
   "cell_type": "markdown",
   "metadata": {},
   "source": [
    "!!! this figure shows us the most valuable moments in term of hour and day of the week ! We will use it later when we perform DBscan to focus on most valuable time slots."
   ]
  },
  {
   "cell_type": "code",
   "execution_count": 33,
   "metadata": {},
   "outputs": [
    {
     "data": {
      "text/plain": [
       "<AxesSubplot:xlabel='dayoftheweek'>"
      ]
     },
     "execution_count": 33,
     "metadata": {},
     "output_type": "execute_result"
    },
    {
     "data": {
      "image/png": "[encoded data removed]",
      "text/plain": [
       "<Figure size 432x288 with 1 Axes>"
      ]
     },
     "metadata": {
      "needs_background": "light"
     },
     "output_type": "display_data"
    }
   ],
   "source": [
    "df_grouped.groupby('dayoftheweek').sum()['frequency_apparances_by_day_of_week'].plot()"
   ]
  },
  {
   "cell_type": "markdown",
   "metadata": {},
   "source": [
    "We can conclude that the market in NYC for Uber is more important from Wednesday to Friday, average on Tuesdays and Saturdays, and low on Mondays and Sundays"
   ]
  },
  {
   "cell_type": "markdown",
   "metadata": {},
   "source": [
    "### DBSCAN : Clusters research on hot times and zones"
   ]
  },
  {
   "cell_type": "markdown",
   "metadata": {},
   "source": [
    "The purpose of this project is to identify moments when the demand is high in order to dimension a good amount of drivers.\n",
    "\n",
    "Considering what we saw in the previous part, we can say that the following moments are the more crucial ones (approximately) :\n",
    "- Monday to Saturday, 4pm to 7pm \n",
    "- Friday and Saturday nights, 9pm to 11pm\n",
    "- Monday to Friday, 6am to 8am\n",
    "\n",
    "We will not perform all the views here so we selected :\n",
    "- Monday afternoon, 4pm to 7pm\n",
    "- Friday night, 9pm to 11pm\n",
    "- Friday morning, 6am to 8am\n",
    "\n",
    "\n",
    "Kmeans does not suit this problem right as we saw previously : we need to cluster by density and not by borders made by \"size\". Also we do not know in advance what are the number of clusters we want.\n",
    "\n",
    "That's why we will use Dbscan in next sections.\n"
   ]
  },
  {
   "cell_type": "code",
   "execution_count": 34,
   "metadata": {},
   "outputs": [
    {
     "data": {
      "text/html": [
       "<div>\n",
       "<style scoped>\n",
       "    .dataframe tbody tr th:only-of-type {\n",
       "        vertical-align: middle;\n",
       "    }\n",
       "\n",
       "    .dataframe tbody tr th {\n",
       "        vertical-align: top;\n",
       "    }\n",
       "\n",
       "    .dataframe thead th {\n",
       "        text-align: right;\n",
       "    }\n",
       "</style>\n",
       "<table border=\"1\" class=\"dataframe\">\n",
       "  <thead>\n",
       "    <tr style=\"text-align: right;\">\n",
       "      <th></th>\n",
       "      <th>Date/Time</th>\n",
       "      <th>Lat</th>\n",
       "      <th>Lon</th>\n",
       "      <th>Base</th>\n",
       "      <th>hour</th>\n",
       "      <th>dayoftheweek</th>\n",
       "      <th>date</th>\n",
       "    </tr>\n",
       "  </thead>\n",
       "  <tbody>\n",
       "    <tr>\n",
       "      <th>0</th>\n",
       "      <td>2014-04-01 00:11:00</td>\n",
       "      <td>40.7690</td>\n",
       "      <td>-73.9549</td>\n",
       "      <td>B02512</td>\n",
       "      <td>0</td>\n",
       "      <td>1</td>\n",
       "      <td>2014-04-01</td>\n",
       "    </tr>\n",
       "    <tr>\n",
       "      <th>1</th>\n",
       "      <td>2014-04-01 00:17:00</td>\n",
       "      <td>40.7267</td>\n",
       "      <td>-74.0345</td>\n",
       "      <td>B02512</td>\n",
       "      <td>0</td>\n",
       "      <td>1</td>\n",
       "      <td>2014-04-01</td>\n",
       "    </tr>\n",
       "    <tr>\n",
       "      <th>2</th>\n",
       "      <td>2014-04-01 00:21:00</td>\n",
       "      <td>40.7316</td>\n",
       "      <td>-73.9873</td>\n",
       "      <td>B02512</td>\n",
       "      <td>0</td>\n",
       "      <td>1</td>\n",
       "      <td>2014-04-01</td>\n",
       "    </tr>\n",
       "    <tr>\n",
       "      <th>3</th>\n",
       "      <td>2014-04-01 00:28:00</td>\n",
       "      <td>40.7588</td>\n",
       "      <td>-73.9776</td>\n",
       "      <td>B02512</td>\n",
       "      <td>0</td>\n",
       "      <td>1</td>\n",
       "      <td>2014-04-01</td>\n",
       "    </tr>\n",
       "    <tr>\n",
       "      <th>4</th>\n",
       "      <td>2014-04-01 00:33:00</td>\n",
       "      <td>40.7594</td>\n",
       "      <td>-73.9722</td>\n",
       "      <td>B02512</td>\n",
       "      <td>0</td>\n",
       "      <td>1</td>\n",
       "      <td>2014-04-01</td>\n",
       "    </tr>\n",
       "  </tbody>\n",
       "</table>\n",
       "</div>"
      ],
      "text/plain": [
       "            Date/Time      Lat      Lon    Base  hour  dayoftheweek  \\\n",
       "0 2014-04-01 00:11:00  40.7690 -73.9549  B02512     0             1   \n",
       "1 2014-04-01 00:17:00  40.7267 -74.0345  B02512     0             1   \n",
       "2 2014-04-01 00:21:00  40.7316 -73.9873  B02512     0             1   \n",
       "3 2014-04-01 00:28:00  40.7588 -73.9776  B02512     0             1   \n",
       "4 2014-04-01 00:33:00  40.7594 -73.9722  B02512     0             1   \n",
       "\n",
       "         date  \n",
       "0  2014-04-01  \n",
       "1  2014-04-01  \n",
       "2  2014-04-01  \n",
       "3  2014-04-01  \n",
       "4  2014-04-01  "
      ]
     },
     "execution_count": 34,
     "metadata": {},
     "output_type": "execute_result"
    }
   ],
   "source": [
    "df_apr_14.head()"
   ]
  },
  {
   "cell_type": "markdown",
   "metadata": {},
   "source": [
    "#### Monday afternoon, 4pm to 7pm"
   ]
  },
  {
   "cell_type": "markdown",
   "metadata": {},
   "source": [
    "Determine the first Monday :"
   ]
  },
  {
   "cell_type": "code",
   "execution_count": 35,
   "metadata": {},
   "outputs": [],
   "source": [
    "df_apr_14['day'] = df_apr_14['Date/Time'].dt.day"
   ]
  },
  {
   "cell_type": "code",
   "execution_count": 36,
   "metadata": {},
   "outputs": [
    {
     "data": {
      "text/plain": [
       "array([ 7, 14, 21, 28], dtype=int64)"
      ]
     },
     "execution_count": 36,
     "metadata": {},
     "output_type": "execute_result"
    }
   ],
   "source": [
    "df_apr_14[df_apr_14['dayoftheweek'] == 0]['day'].unique()"
   ]
  },
  {
   "cell_type": "markdown",
   "metadata": {},
   "source": [
    "-> 2014, 7th of April was the first Monday of this month. Let's focus on this :"
   ]
  },
  {
   "cell_type": "code",
   "execution_count": 37,
   "metadata": {},
   "outputs": [],
   "source": [
    "df_apr_14_first_monday = df_apr_14[df_apr_14['day'] == 7]"
   ]
  },
  {
   "cell_type": "code",
   "execution_count": 38,
   "metadata": {},
   "outputs": [
    {
     "data": {
      "text/plain": [
       "(19550, 8)"
      ]
     },
     "execution_count": 38,
     "metadata": {},
     "output_type": "execute_result"
    }
   ],
   "source": [
    "df_apr_14_first_monday.shape"
   ]
  },
  {
   "cell_type": "markdown",
   "metadata": {},
   "source": [
    "Now we want to take a look at the late afternoon part :"
   ]
  },
  {
   "cell_type": "code",
   "execution_count": 39,
   "metadata": {},
   "outputs": [],
   "source": [
    "df_apr_14_first_monday_evening = df_apr_14_first_monday[df_apr_14_first_monday['hour'].isin([16, 17, 18, 19])]"
   ]
  },
  {
   "cell_type": "code",
   "execution_count": 40,
   "metadata": {},
   "outputs": [
    {
     "data": {
      "text/html": [
       "<div>\n",
       "<style scoped>\n",
       "    .dataframe tbody tr th:only-of-type {\n",
       "        vertical-align: middle;\n",
       "    }\n",
       "\n",
       "    .dataframe tbody tr th {\n",
       "        vertical-align: top;\n",
       "    }\n",
       "\n",
       "    .dataframe thead th {\n",
       "        text-align: right;\n",
       "    }\n",
       "</style>\n",
       "<table border=\"1\" class=\"dataframe\">\n",
       "  <thead>\n",
       "    <tr style=\"text-align: right;\">\n",
       "      <th></th>\n",
       "      <th>Lat</th>\n",
       "      <th>Lon</th>\n",
       "      <th>hour</th>\n",
       "      <th>dayoftheweek</th>\n",
       "      <th>day</th>\n",
       "    </tr>\n",
       "  </thead>\n",
       "  <tbody>\n",
       "    <tr>\n",
       "      <th>count</th>\n",
       "      <td>8119.000000</td>\n",
       "      <td>8119.000000</td>\n",
       "      <td>8119.000000</td>\n",
       "      <td>8119.0</td>\n",
       "      <td>8119.0</td>\n",
       "    </tr>\n",
       "    <tr>\n",
       "      <th>mean</th>\n",
       "      <td>40.743375</td>\n",
       "      <td>-73.980612</td>\n",
       "      <td>17.548220</td>\n",
       "      <td>0.0</td>\n",
       "      <td>7.0</td>\n",
       "    </tr>\n",
       "    <tr>\n",
       "      <th>std</th>\n",
       "      <td>0.028555</td>\n",
       "      <td>0.038274</td>\n",
       "      <td>1.087051</td>\n",
       "      <td>0.0</td>\n",
       "      <td>0.0</td>\n",
       "    </tr>\n",
       "    <tr>\n",
       "      <th>min</th>\n",
       "      <td>40.439900</td>\n",
       "      <td>-74.656100</td>\n",
       "      <td>16.000000</td>\n",
       "      <td>0.0</td>\n",
       "      <td>7.0</td>\n",
       "    </tr>\n",
       "    <tr>\n",
       "      <th>25%</th>\n",
       "      <td>40.727400</td>\n",
       "      <td>-73.997150</td>\n",
       "      <td>17.000000</td>\n",
       "      <td>0.0</td>\n",
       "      <td>7.0</td>\n",
       "    </tr>\n",
       "    <tr>\n",
       "      <th>50%</th>\n",
       "      <td>40.749300</td>\n",
       "      <td>-73.984100</td>\n",
       "      <td>18.000000</td>\n",
       "      <td>0.0</td>\n",
       "      <td>7.0</td>\n",
       "    </tr>\n",
       "    <tr>\n",
       "      <th>75%</th>\n",
       "      <td>40.759700</td>\n",
       "      <td>-73.973800</td>\n",
       "      <td>19.000000</td>\n",
       "      <td>0.0</td>\n",
       "      <td>7.0</td>\n",
       "    </tr>\n",
       "    <tr>\n",
       "      <th>max</th>\n",
       "      <td>41.059700</td>\n",
       "      <td>-73.495000</td>\n",
       "      <td>19.000000</td>\n",
       "      <td>0.0</td>\n",
       "      <td>7.0</td>\n",
       "    </tr>\n",
       "  </tbody>\n",
       "</table>\n",
       "</div>"
      ],
      "text/plain": [
       "               Lat          Lon         hour  dayoftheweek     day\n",
       "count  8119.000000  8119.000000  8119.000000        8119.0  8119.0\n",
       "mean     40.743375   -73.980612    17.548220           0.0     7.0\n",
       "std       0.028555     0.038274     1.087051           0.0     0.0\n",
       "min      40.439900   -74.656100    16.000000           0.0     7.0\n",
       "25%      40.727400   -73.997150    17.000000           0.0     7.0\n",
       "50%      40.749300   -73.984100    18.000000           0.0     7.0\n",
       "75%      40.759700   -73.973800    19.000000           0.0     7.0\n",
       "max      41.059700   -73.495000    19.000000           0.0     7.0"
      ]
     },
     "execution_count": 40,
     "metadata": {},
     "output_type": "execute_result"
    }
   ],
   "source": [
    "df_apr_14_first_monday_evening.describe()"
   ]
  },
  {
   "cell_type": "code",
   "execution_count": 41,
   "metadata": {},
   "outputs": [],
   "source": [
    "# Now let's just keep the columns we need for dbscan (lat and lon) :\n",
    "df_apr_14_first_monday_evening = df_apr_14_first_monday_evening[['Lat', 'Lon']]\n"
   ]
  },
  {
   "cell_type": "code",
   "execution_count": 42,
   "metadata": {},
   "outputs": [
    {
     "data": {
      "text/html": [
       "<div>\n",
       "<style scoped>\n",
       "    .dataframe tbody tr th:only-of-type {\n",
       "        vertical-align: middle;\n",
       "    }\n",
       "\n",
       "    .dataframe tbody tr th {\n",
       "        vertical-align: top;\n",
       "    }\n",
       "\n",
       "    .dataframe thead th {\n",
       "        text-align: right;\n",
       "    }\n",
       "</style>\n",
       "<table border=\"1\" class=\"dataframe\">\n",
       "  <thead>\n",
       "    <tr style=\"text-align: right;\">\n",
       "      <th></th>\n",
       "      <th>Lat</th>\n",
       "      <th>Lon</th>\n",
       "    </tr>\n",
       "  </thead>\n",
       "  <tbody>\n",
       "    <tr>\n",
       "      <th>8336</th>\n",
       "      <td>40.7261</td>\n",
       "      <td>-73.9918</td>\n",
       "    </tr>\n",
       "    <tr>\n",
       "      <th>8337</th>\n",
       "      <td>40.8308</td>\n",
       "      <td>-73.9202</td>\n",
       "    </tr>\n",
       "    <tr>\n",
       "      <th>8338</th>\n",
       "      <td>40.7404</td>\n",
       "      <td>-74.0058</td>\n",
       "    </tr>\n",
       "    <tr>\n",
       "      <th>8339</th>\n",
       "      <td>40.6902</td>\n",
       "      <td>-73.9814</td>\n",
       "    </tr>\n",
       "    <tr>\n",
       "      <th>8340</th>\n",
       "      <td>40.7616</td>\n",
       "      <td>-73.9679</td>\n",
       "    </tr>\n",
       "  </tbody>\n",
       "</table>\n",
       "</div>"
      ],
      "text/plain": [
       "          Lat      Lon\n",
       "8336  40.7261 -73.9918\n",
       "8337  40.8308 -73.9202\n",
       "8338  40.7404 -74.0058\n",
       "8339  40.6902 -73.9814\n",
       "8340  40.7616 -73.9679"
      ]
     },
     "execution_count": 42,
     "metadata": {},
     "output_type": "execute_result"
    }
   ],
   "source": [
    "df_apr_14_first_monday_evening.head()"
   ]
  },
  {
   "cell_type": "code",
   "execution_count": 43,
   "metadata": {},
   "outputs": [
    {
     "data": {
      "text/html": [
       "<div>\n",
       "<style scoped>\n",
       "    .dataframe tbody tr th:only-of-type {\n",
       "        vertical-align: middle;\n",
       "    }\n",
       "\n",
       "    .dataframe tbody tr th {\n",
       "        vertical-align: top;\n",
       "    }\n",
       "\n",
       "    .dataframe thead th {\n",
       "        text-align: right;\n",
       "    }\n",
       "</style>\n",
       "<table border=\"1\" class=\"dataframe\">\n",
       "  <thead>\n",
       "    <tr style=\"text-align: right;\">\n",
       "      <th></th>\n",
       "      <th>Lat</th>\n",
       "      <th>Lon</th>\n",
       "    </tr>\n",
       "  </thead>\n",
       "  <tbody>\n",
       "    <tr>\n",
       "      <th>8336</th>\n",
       "      <td>40.7261</td>\n",
       "      <td>-73.9918</td>\n",
       "    </tr>\n",
       "    <tr>\n",
       "      <th>8337</th>\n",
       "      <td>40.8308</td>\n",
       "      <td>-73.9202</td>\n",
       "    </tr>\n",
       "    <tr>\n",
       "      <th>8338</th>\n",
       "      <td>40.7404</td>\n",
       "      <td>-74.0058</td>\n",
       "    </tr>\n",
       "    <tr>\n",
       "      <th>8339</th>\n",
       "      <td>40.6902</td>\n",
       "      <td>-73.9814</td>\n",
       "    </tr>\n",
       "    <tr>\n",
       "      <th>8340</th>\n",
       "      <td>40.7616</td>\n",
       "      <td>-73.9679</td>\n",
       "    </tr>\n",
       "    <tr>\n",
       "      <th>...</th>\n",
       "      <td>...</td>\n",
       "      <td>...</td>\n",
       "    </tr>\n",
       "    <tr>\n",
       "      <th>556974</th>\n",
       "      <td>40.7191</td>\n",
       "      <td>-74.0016</td>\n",
       "    </tr>\n",
       "    <tr>\n",
       "      <th>556975</th>\n",
       "      <td>40.7460</td>\n",
       "      <td>-74.0016</td>\n",
       "    </tr>\n",
       "    <tr>\n",
       "      <th>556976</th>\n",
       "      <td>40.7579</td>\n",
       "      <td>-73.9820</td>\n",
       "    </tr>\n",
       "    <tr>\n",
       "      <th>556977</th>\n",
       "      <td>40.7583</td>\n",
       "      <td>-73.9671</td>\n",
       "    </tr>\n",
       "    <tr>\n",
       "      <th>556978</th>\n",
       "      <td>40.7444</td>\n",
       "      <td>-73.9791</td>\n",
       "    </tr>\n",
       "  </tbody>\n",
       "</table>\n",
       "<p>8119 rows × 2 columns</p>\n",
       "</div>"
      ],
      "text/plain": [
       "            Lat      Lon\n",
       "8336    40.7261 -73.9918\n",
       "8337    40.8308 -73.9202\n",
       "8338    40.7404 -74.0058\n",
       "8339    40.6902 -73.9814\n",
       "8340    40.7616 -73.9679\n",
       "...         ...      ...\n",
       "556974  40.7191 -74.0016\n",
       "556975  40.7460 -74.0016\n",
       "556976  40.7579 -73.9820\n",
       "556977  40.7583 -73.9671\n",
       "556978  40.7444 -73.9791\n",
       "\n",
       "[8119 rows x 2 columns]"
      ]
     },
     "execution_count": 43,
     "metadata": {},
     "output_type": "execute_result"
    }
   ],
   "source": [
    "df_apr_14_first_monday_evening"
   ]
  },
  {
   "cell_type": "code",
   "execution_count": 44,
   "metadata": {},
   "outputs": [
    {
     "data": {
      "text/html": [
       "<iframe\n",
       "    scrolling=\"no\"\n",
       "    width=\"100%\"\n",
       "    height=\"545px\"\n",
       "    src=\"iframe_figures/figure_44.html\"\n",
       "    frameborder=\"0\"\n",
       "    allowfullscreen\n",
       "></iframe>\n"
      ]
     },
     "metadata": {},
     "output_type": "display_data"
    }
   ],
   "source": [
    "# finally ! we apply dbscan now and visualize the map.\n",
    "# we performed the iterations manually to find interesting hyperparameters eps and min_samples\n",
    "# hyperparameter 'metric' has been set to 'manhattan' in order to be closer to a driver traject\n",
    "\n",
    "from sklearn.cluster import DBSCAN \n",
    "\n",
    "dbscan = DBSCAN(n_jobs=-1, eps = 0.008, min_samples = 22, metric = 'manhattan')\n",
    "\n",
    "X = df_apr_14_first_monday_evening.copy()\n",
    "X['predictions'] = dbscan.fit_predict(X)\n",
    "fig = px.scatter_mapbox(X, lat=\"Lat\", lon=\"Lon\", color=\"predictions\", mapbox_style='carto-positron')\n",
    "fig.show()"
   ]
  },
  {
   "cell_type": "markdown",
   "metadata": {},
   "source": [
    "Let's describe what we see !\n",
    "- island of Manhattan (from south to north of Central park) is the most dense area. this whole zone is in one single cluster\n",
    "- we then have three little clusters in Brooklyn along the East River\n",
    "- there is another cluster in airports (JFK in South East and LaGuardia North of Queens)\n",
    "\n",
    "The other points are outliers, those zones are the ones we should focus most of our drivers on. However, if the purpose of Uber is to avoid customers to wait more than 5 minutes, we should not forget the outlier either, this map is just a way to point out the most critical zones in a given time."
   ]
  },
  {
   "cell_type": "markdown",
   "metadata": {},
   "source": [
    "#### Friday night, 9pm to 11pm"
   ]
  },
  {
   "cell_type": "code",
   "execution_count": 45,
   "metadata": {},
   "outputs": [
    {
     "data": {
      "text/plain": [
       "array([ 4, 11, 18, 25], dtype=int64)"
      ]
     },
     "execution_count": 45,
     "metadata": {},
     "output_type": "execute_result"
    }
   ],
   "source": [
    "df_apr_14[df_apr_14['dayoftheweek'] == 4]['day'].unique()"
   ]
  },
  {
   "cell_type": "markdown",
   "metadata": {},
   "source": [
    "-> 2014, 4th of April was the first Friday of this month."
   ]
  },
  {
   "cell_type": "code",
   "execution_count": 46,
   "metadata": {},
   "outputs": [],
   "source": [
    "df_apr_14_first_friday = df_apr_14[df_apr_14['day'] == 4]\n",
    "df_apr_14_first_friday_night = df_apr_14_first_friday[df_apr_14_first_friday['hour'].isin([21, 22, 23])]\n",
    "df_apr_14_first_friday_night = df_apr_14_first_friday_night[['Lat', 'Lon']]"
   ]
  },
  {
   "cell_type": "code",
   "execution_count": 47,
   "metadata": {},
   "outputs": [
    {
     "data": {
      "text/html": [
       "<iframe\n",
       "    scrolling=\"no\"\n",
       "    width=\"100%\"\n",
       "    height=\"545px\"\n",
       "    src=\"iframe_figures/figure_47.html\"\n",
       "    frameborder=\"0\"\n",
       "    allowfullscreen\n",
       "></iframe>\n"
      ]
     },
     "metadata": {},
     "output_type": "display_data"
    }
   ],
   "source": [
    "dbscan = DBSCAN(n_jobs=-1, eps = 0.008, min_samples = 22, metric = 'manhattan')\n",
    "\n",
    "X = df_apr_14_first_friday_night.copy()\n",
    "X['predictions'] = dbscan.fit_predict(X)\n",
    "fig = px.scatter_mapbox(X, lat=\"Lat\", lon=\"Lon\", color=\"predictions\", mapbox_style='carto-positron')\n",
    "fig.show()"
   ]
  },
  {
   "cell_type": "markdown",
   "metadata": {},
   "source": [
    "Almost the same results. We used the same hyperparameters as before on Monday afternoon.\n",
    "\n",
    "We see we have more density globally, maybe because of both people leaving work late and people going out in the same time ...\n",
    "\n",
    "We also see a little cluster in Hoboken, maybe people calling Uber to join New York for the night."
   ]
  },
  {
   "cell_type": "markdown",
   "metadata": {},
   "source": [
    "#### Friday morning, 6am to 8am"
   ]
  },
  {
   "cell_type": "code",
   "execution_count": 48,
   "metadata": {},
   "outputs": [],
   "source": [
    "df_apr_14_first_friday_morning = df_apr_14_first_friday[df_apr_14_first_friday['hour'].isin([6, 7, 8])]\n",
    "df_apr_14_first_friday_morning = df_apr_14_first_friday_morning[['Lat', 'Lon']]"
   ]
  },
  {
   "cell_type": "code",
   "execution_count": 49,
   "metadata": {},
   "outputs": [
    {
     "data": {
      "text/html": [
       "<iframe\n",
       "    scrolling=\"no\"\n",
       "    width=\"100%\"\n",
       "    height=\"545px\"\n",
       "    src=\"iframe_figures/figure_49.html\"\n",
       "    frameborder=\"0\"\n",
       "    allowfullscreen\n",
       "></iframe>\n"
      ]
     },
     "metadata": {},
     "output_type": "display_data"
    }
   ],
   "source": [
    "dbscan = DBSCAN(n_jobs=-1, eps = 0.0089, min_samples = 20, metric = 'manhattan')\n",
    "\n",
    "X = df_apr_14_first_friday_morning.copy()\n",
    "X['predictions'] = dbscan.fit_predict(X)\n",
    "fig = px.scatter_mapbox(X, lat=\"Lat\", lon=\"Lon\", color=\"predictions\", mapbox_style='carto-positron')\n",
    "fig.show()"
   ]
  },
  {
   "cell_type": "markdown",
   "metadata": {},
   "source": [
    "Still the same zones appearing ! We see less arrivals in airports than previous daytime analysis, but generaly the Manhattan & Brooklyn parts already seen take important place here too."
   ]
  },
  {
   "cell_type": "markdown",
   "metadata": {},
   "source": [
    "## Generalization on all available months\n",
    "(2014 ; April, May, June, July, August, September)"
   ]
  },
  {
   "cell_type": "code",
   "execution_count": 83,
   "metadata": {},
   "outputs": [
    {
     "data": {
      "text/html": [
       "<div>\n",
       "<style scoped>\n",
       "    .dataframe tbody tr th:only-of-type {\n",
       "        vertical-align: middle;\n",
       "    }\n",
       "\n",
       "    .dataframe tbody tr th {\n",
       "        vertical-align: top;\n",
       "    }\n",
       "\n",
       "    .dataframe thead th {\n",
       "        text-align: right;\n",
       "    }\n",
       "</style>\n",
       "<table border=\"1\" class=\"dataframe\">\n",
       "  <thead>\n",
       "    <tr style=\"text-align: right;\">\n",
       "      <th></th>\n",
       "      <th>Date/Time</th>\n",
       "      <th>Lat</th>\n",
       "      <th>Lon</th>\n",
       "      <th>Base</th>\n",
       "    </tr>\n",
       "  </thead>\n",
       "  <tbody>\n",
       "    <tr>\n",
       "      <th>0</th>\n",
       "      <td>4/1/2014 0:11:00</td>\n",
       "      <td>40.7690</td>\n",
       "      <td>-73.9549</td>\n",
       "      <td>B02512</td>\n",
       "    </tr>\n",
       "    <tr>\n",
       "      <th>1</th>\n",
       "      <td>4/1/2014 0:17:00</td>\n",
       "      <td>40.7267</td>\n",
       "      <td>-74.0345</td>\n",
       "      <td>B02512</td>\n",
       "    </tr>\n",
       "    <tr>\n",
       "      <th>2</th>\n",
       "      <td>4/1/2014 0:21:00</td>\n",
       "      <td>40.7316</td>\n",
       "      <td>-73.9873</td>\n",
       "      <td>B02512</td>\n",
       "    </tr>\n",
       "    <tr>\n",
       "      <th>3</th>\n",
       "      <td>4/1/2014 0:28:00</td>\n",
       "      <td>40.7588</td>\n",
       "      <td>-73.9776</td>\n",
       "      <td>B02512</td>\n",
       "    </tr>\n",
       "    <tr>\n",
       "      <th>4</th>\n",
       "      <td>4/1/2014 0:33:00</td>\n",
       "      <td>40.7594</td>\n",
       "      <td>-73.9722</td>\n",
       "      <td>B02512</td>\n",
       "    </tr>\n",
       "  </tbody>\n",
       "</table>\n",
       "</div>"
      ],
      "text/plain": [
       "          Date/Time      Lat      Lon    Base\n",
       "0  4/1/2014 0:11:00  40.7690 -73.9549  B02512\n",
       "1  4/1/2014 0:17:00  40.7267 -74.0345  B02512\n",
       "2  4/1/2014 0:21:00  40.7316 -73.9873  B02512\n",
       "3  4/1/2014 0:28:00  40.7588 -73.9776  B02512\n",
       "4  4/1/2014 0:33:00  40.7594 -73.9722  B02512"
      ]
     },
     "execution_count": 83,
     "metadata": {},
     "output_type": "execute_result"
    }
   ],
   "source": [
    "\n",
    "import glob\n",
    "\n",
    "path = r'uber-trip-data'\n",
    "all_files = glob.glob(path + \"/*.csv\")\n",
    "\n",
    "list_dataframes = []\n",
    "\n",
    "for filename in all_files:\n",
    "    df = pd.read_csv(filename, index_col=None, header=0)\n",
    "    list_dataframes.append(df)\n",
    "\n",
    "df_complete = pd.concat(list_dataframes, axis=0, ignore_index=True)\n",
    "df_complete.head()"
   ]
  },
  {
   "cell_type": "code",
   "execution_count": 84,
   "metadata": {},
   "outputs": [],
   "source": [
    "df_complete = df_complete.drop('Base', axis = 1)"
   ]
  },
  {
   "cell_type": "code",
   "execution_count": 85,
   "metadata": {},
   "outputs": [
    {
     "data": {
      "text/html": [
       "<div>\n",
       "<style scoped>\n",
       "    .dataframe tbody tr th:only-of-type {\n",
       "        vertical-align: middle;\n",
       "    }\n",
       "\n",
       "    .dataframe tbody tr th {\n",
       "        vertical-align: top;\n",
       "    }\n",
       "\n",
       "    .dataframe thead th {\n",
       "        text-align: right;\n",
       "    }\n",
       "</style>\n",
       "<table border=\"1\" class=\"dataframe\">\n",
       "  <thead>\n",
       "    <tr style=\"text-align: right;\">\n",
       "      <th></th>\n",
       "      <th>Date/Time</th>\n",
       "      <th>Lat</th>\n",
       "      <th>Lon</th>\n",
       "    </tr>\n",
       "  </thead>\n",
       "  <tbody>\n",
       "    <tr>\n",
       "      <th>0</th>\n",
       "      <td>4/1/2014 0:11:00</td>\n",
       "      <td>40.7690</td>\n",
       "      <td>-73.9549</td>\n",
       "    </tr>\n",
       "    <tr>\n",
       "      <th>1</th>\n",
       "      <td>4/1/2014 0:17:00</td>\n",
       "      <td>40.7267</td>\n",
       "      <td>-74.0345</td>\n",
       "    </tr>\n",
       "    <tr>\n",
       "      <th>2</th>\n",
       "      <td>4/1/2014 0:21:00</td>\n",
       "      <td>40.7316</td>\n",
       "      <td>-73.9873</td>\n",
       "    </tr>\n",
       "    <tr>\n",
       "      <th>3</th>\n",
       "      <td>4/1/2014 0:28:00</td>\n",
       "      <td>40.7588</td>\n",
       "      <td>-73.9776</td>\n",
       "    </tr>\n",
       "    <tr>\n",
       "      <th>4</th>\n",
       "      <td>4/1/2014 0:33:00</td>\n",
       "      <td>40.7594</td>\n",
       "      <td>-73.9722</td>\n",
       "    </tr>\n",
       "  </tbody>\n",
       "</table>\n",
       "</div>"
      ],
      "text/plain": [
       "          Date/Time      Lat      Lon\n",
       "0  4/1/2014 0:11:00  40.7690 -73.9549\n",
       "1  4/1/2014 0:17:00  40.7267 -74.0345\n",
       "2  4/1/2014 0:21:00  40.7316 -73.9873\n",
       "3  4/1/2014 0:28:00  40.7588 -73.9776\n",
       "4  4/1/2014 0:33:00  40.7594 -73.9722"
      ]
     },
     "execution_count": 85,
     "metadata": {},
     "output_type": "execute_result"
    }
   ],
   "source": [
    "df_complete.head()"
   ]
  },
  {
   "cell_type": "code",
   "execution_count": 86,
   "metadata": {},
   "outputs": [
    {
     "data": {
      "text/html": [
       "<div>\n",
       "<style scoped>\n",
       "    .dataframe tbody tr th:only-of-type {\n",
       "        vertical-align: middle;\n",
       "    }\n",
       "\n",
       "    .dataframe tbody tr th {\n",
       "        vertical-align: top;\n",
       "    }\n",
       "\n",
       "    .dataframe thead th {\n",
       "        text-align: right;\n",
       "    }\n",
       "</style>\n",
       "<table border=\"1\" class=\"dataframe\">\n",
       "  <thead>\n",
       "    <tr style=\"text-align: right;\">\n",
       "      <th></th>\n",
       "      <th>Lat</th>\n",
       "      <th>Lon</th>\n",
       "    </tr>\n",
       "  </thead>\n",
       "  <tbody>\n",
       "    <tr>\n",
       "      <th>count</th>\n",
       "      <td>4.534327e+06</td>\n",
       "      <td>4.534327e+06</td>\n",
       "    </tr>\n",
       "    <tr>\n",
       "      <th>mean</th>\n",
       "      <td>4.073926e+01</td>\n",
       "      <td>-7.397302e+01</td>\n",
       "    </tr>\n",
       "    <tr>\n",
       "      <th>std</th>\n",
       "      <td>3.994991e-02</td>\n",
       "      <td>5.726670e-02</td>\n",
       "    </tr>\n",
       "    <tr>\n",
       "      <th>min</th>\n",
       "      <td>3.965690e+01</td>\n",
       "      <td>-7.492900e+01</td>\n",
       "    </tr>\n",
       "    <tr>\n",
       "      <th>25%</th>\n",
       "      <td>4.072110e+01</td>\n",
       "      <td>-7.399650e+01</td>\n",
       "    </tr>\n",
       "    <tr>\n",
       "      <th>50%</th>\n",
       "      <td>4.074220e+01</td>\n",
       "      <td>-7.398340e+01</td>\n",
       "    </tr>\n",
       "    <tr>\n",
       "      <th>75%</th>\n",
       "      <td>4.076100e+01</td>\n",
       "      <td>-7.396530e+01</td>\n",
       "    </tr>\n",
       "    <tr>\n",
       "      <th>max</th>\n",
       "      <td>4.211660e+01</td>\n",
       "      <td>-7.206660e+01</td>\n",
       "    </tr>\n",
       "  </tbody>\n",
       "</table>\n",
       "</div>"
      ],
      "text/plain": [
       "                Lat           Lon\n",
       "count  4.534327e+06  4.534327e+06\n",
       "mean   4.073926e+01 -7.397302e+01\n",
       "std    3.994991e-02  5.726670e-02\n",
       "min    3.965690e+01 -7.492900e+01\n",
       "25%    4.072110e+01 -7.399650e+01\n",
       "50%    4.074220e+01 -7.398340e+01\n",
       "75%    4.076100e+01 -7.396530e+01\n",
       "max    4.211660e+01 -7.206660e+01"
      ]
     },
     "execution_count": 86,
     "metadata": {},
     "output_type": "execute_result"
    }
   ],
   "source": [
    "df_complete.describe()"
   ]
  },
  {
   "cell_type": "code",
   "execution_count": 72,
   "metadata": {},
   "outputs": [
    {
     "name": "stdout",
     "output_type": "stream",
     "text": [
      "False    4534327\n",
      "Name: Lat, dtype: int64\n"
     ]
    }
   ],
   "source": [
    "print(df_complete['Lat'].isna().value_counts())"
   ]
  },
  {
   "cell_type": "code",
   "execution_count": 73,
   "metadata": {},
   "outputs": [
    {
     "name": "stdout",
     "output_type": "stream",
     "text": [
      "False    4534327\n",
      "Name: Lon, dtype: int64\n"
     ]
    }
   ],
   "source": [
    "print(df_complete['Lon'].isna().value_counts())"
   ]
  },
  {
   "cell_type": "code",
   "execution_count": 76,
   "metadata": {},
   "outputs": [
    {
     "data": {
      "text/plain": [
       "(4534327, 2)"
      ]
     },
     "execution_count": 76,
     "metadata": {},
     "output_type": "execute_result"
    }
   ],
   "source": [
    "df_complete.shape"
   ]
  },
  {
   "cell_type": "markdown",
   "metadata": {},
   "source": [
    "What to do :\n",
    "- get day, month, year, hour, day of week\n",
    "\n",
    "What to look :\n",
    "- boxes grouped by day of the week\n",
    "\n",
    "\n",
    "\n"
   ]
  },
  {
   "cell_type": "code",
   "execution_count": 94,
   "metadata": {},
   "outputs": [],
   "source": [
    "df_complete['Date/Time'] = pd.to_datetime(df_complete['Date/Time'])\n",
    "\n",
    "df_complete['year'] = df_complete['Date/Time'].dt.year\n",
    "df_complete['month'] = df_complete['Date/Time'].dt.month\n",
    "df_complete['dayofweek'] = df_complete['Date/Time'].dt.dayofweek\n",
    "df_complete['day'] = df_complete['Date/Time'].dt.day\n",
    "df_complete['hour'] = df_complete['Date/Time'].dt.hour\n",
    "df_complete['date'] = df_complete['Date/Time'].dt.date\n"
   ]
  },
  {
   "cell_type": "code",
   "execution_count": 95,
   "metadata": {},
   "outputs": [
    {
     "data": {
      "text/html": [
       "<div>\n",
       "<style scoped>\n",
       "    .dataframe tbody tr th:only-of-type {\n",
       "        vertical-align: middle;\n",
       "    }\n",
       "\n",
       "    .dataframe tbody tr th {\n",
       "        vertical-align: top;\n",
       "    }\n",
       "\n",
       "    .dataframe thead th {\n",
       "        text-align: right;\n",
       "    }\n",
       "</style>\n",
       "<table border=\"1\" class=\"dataframe\">\n",
       "  <thead>\n",
       "    <tr style=\"text-align: right;\">\n",
       "      <th></th>\n",
       "      <th>Date/Time</th>\n",
       "      <th>Lat</th>\n",
       "      <th>Lon</th>\n",
       "      <th>year</th>\n",
       "      <th>month</th>\n",
       "      <th>dayofweek</th>\n",
       "      <th>day</th>\n",
       "      <th>hour</th>\n",
       "      <th>date</th>\n",
       "    </tr>\n",
       "  </thead>\n",
       "  <tbody>\n",
       "    <tr>\n",
       "      <th>0</th>\n",
       "      <td>2014-04-01 00:11:00</td>\n",
       "      <td>40.7690</td>\n",
       "      <td>-73.9549</td>\n",
       "      <td>2014</td>\n",
       "      <td>4</td>\n",
       "      <td>1</td>\n",
       "      <td>1</td>\n",
       "      <td>0</td>\n",
       "      <td>2014-04-01</td>\n",
       "    </tr>\n",
       "    <tr>\n",
       "      <th>1</th>\n",
       "      <td>2014-04-01 00:17:00</td>\n",
       "      <td>40.7267</td>\n",
       "      <td>-74.0345</td>\n",
       "      <td>2014</td>\n",
       "      <td>4</td>\n",
       "      <td>1</td>\n",
       "      <td>1</td>\n",
       "      <td>0</td>\n",
       "      <td>2014-04-01</td>\n",
       "    </tr>\n",
       "    <tr>\n",
       "      <th>2</th>\n",
       "      <td>2014-04-01 00:21:00</td>\n",
       "      <td>40.7316</td>\n",
       "      <td>-73.9873</td>\n",
       "      <td>2014</td>\n",
       "      <td>4</td>\n",
       "      <td>1</td>\n",
       "      <td>1</td>\n",
       "      <td>0</td>\n",
       "      <td>2014-04-01</td>\n",
       "    </tr>\n",
       "    <tr>\n",
       "      <th>3</th>\n",
       "      <td>2014-04-01 00:28:00</td>\n",
       "      <td>40.7588</td>\n",
       "      <td>-73.9776</td>\n",
       "      <td>2014</td>\n",
       "      <td>4</td>\n",
       "      <td>1</td>\n",
       "      <td>1</td>\n",
       "      <td>0</td>\n",
       "      <td>2014-04-01</td>\n",
       "    </tr>\n",
       "    <tr>\n",
       "      <th>4</th>\n",
       "      <td>2014-04-01 00:33:00</td>\n",
       "      <td>40.7594</td>\n",
       "      <td>-73.9722</td>\n",
       "      <td>2014</td>\n",
       "      <td>4</td>\n",
       "      <td>1</td>\n",
       "      <td>1</td>\n",
       "      <td>0</td>\n",
       "      <td>2014-04-01</td>\n",
       "    </tr>\n",
       "  </tbody>\n",
       "</table>\n",
       "</div>"
      ],
      "text/plain": [
       "            Date/Time      Lat      Lon  year  month  dayofweek  day  hour  \\\n",
       "0 2014-04-01 00:11:00  40.7690 -73.9549  2014      4          1    1     0   \n",
       "1 2014-04-01 00:17:00  40.7267 -74.0345  2014      4          1    1     0   \n",
       "2 2014-04-01 00:21:00  40.7316 -73.9873  2014      4          1    1     0   \n",
       "3 2014-04-01 00:28:00  40.7588 -73.9776  2014      4          1    1     0   \n",
       "4 2014-04-01 00:33:00  40.7594 -73.9722  2014      4          1    1     0   \n",
       "\n",
       "         date  \n",
       "0  2014-04-01  \n",
       "1  2014-04-01  \n",
       "2  2014-04-01  \n",
       "3  2014-04-01  \n",
       "4  2014-04-01  "
      ]
     },
     "execution_count": 95,
     "metadata": {},
     "output_type": "execute_result"
    }
   ],
   "source": [
    "df_complete.head()"
   ]
  },
  {
   "cell_type": "code",
   "execution_count": 112,
   "metadata": {},
   "outputs": [],
   "source": [
    "df_by_date = df_complete.groupby('date').count().reset_index()[['date', 'Date/Time']]\n",
    "df_by_date.rename(columns = {'Date/Time' : 'nb_calls_a_day'}, inplace = True)\n",
    "df_by_date['date'] = pd.to_datetime(df_by_date['date'])\n",
    "\n",
    "df_by_date['dayofweek'] = df_by_date['date'].dt.dayofweek"
   ]
  },
  {
   "cell_type": "markdown",
   "metadata": {},
   "source": [
    "We plot boxes to observe statistics over the number of calls per day of the week :"
   ]
  },
  {
   "cell_type": "code",
   "execution_count": 113,
   "metadata": {},
   "outputs": [
    {
     "data": {
      "image/png": "[encoded data removed]",
      "text/plain": [
       "<Figure size 360x360 with 1 Axes>"
      ]
     },
     "metadata": {
      "needs_background": "light"
     },
     "output_type": "display_data"
    }
   ],
   "source": [
    "sns.catplot(data = df_by_date, x = 'dayofweek', y = 'nb_calls_a_day' , kind = 'box')\n",
    "plt.show()"
   ]
  },
  {
   "cell_type": "markdown",
   "metadata": {},
   "source": [
    "What we see here (averagely) is consistent with what we saw in first part : the usage of Uber increases from Monday to Thursday and then decreases until Sunday.\n",
    "\n",
    "We could not observe all datas given the time we have for this project, so we will focus on two \"extreme\" observations : the min value on Mondays and the \"outlier\" max number of call on a Saturday."
   ]
  },
  {
   "cell_type": "markdown",
   "metadata": {},
   "source": [
    "### Monday minimum value"
   ]
  },
  {
   "cell_type": "code",
   "execution_count": 118,
   "metadata": {},
   "outputs": [],
   "source": [
    "min_nb_calls_monday = df_by_date[df_by_date['dayofweek'] == 0]['nb_calls_a_day'].min()"
   ]
  },
  {
   "cell_type": "code",
   "execution_count": 119,
   "metadata": {},
   "outputs": [
    {
     "data": {
      "text/plain": [
       "10202"
      ]
     },
     "execution_count": 119,
     "metadata": {},
     "output_type": "execute_result"
    }
   ],
   "source": [
    "min_nb_calls_monday"
   ]
  },
  {
   "cell_type": "markdown",
   "metadata": {},
   "source": [
    "It seems consistent with the graph above, let's focus on this date."
   ]
  },
  {
   "cell_type": "code",
   "execution_count": 134,
   "metadata": {},
   "outputs": [],
   "source": [
    "date_monday_min_value = df_by_date[(df_by_date['dayofweek'] == 0) & (df_by_date['nb_calls_a_day'] == min_nb_calls_monday)]['date'].iloc[0]"
   ]
  },
  {
   "cell_type": "code",
   "execution_count": 135,
   "metadata": {},
   "outputs": [
    {
     "data": {
      "text/plain": [
       "Timestamp('2014-05-26 00:00:00')"
      ]
     },
     "execution_count": 135,
     "metadata": {},
     "output_type": "execute_result"
    }
   ],
   "source": [
    "date_monday_min_value"
   ]
  },
  {
   "cell_type": "code",
   "execution_count": 140,
   "metadata": {},
   "outputs": [
    {
     "name": "stderr",
     "output_type": "stream",
     "text": [
      "C:\\Users\\Bastien\\anaconda3\\lib\\site-packages\\pandas\\core\\ops\\array_ops.py:73: FutureWarning:\n",
      "\n",
      "Comparison of Timestamp with datetime.date is deprecated in order to match the standard library behavior.  In a future version these will be considered non-comparable.Use 'ts == pd.Timestamp(date)' or 'ts.date() == date' instead.\n",
      "\n"
     ]
    }
   ],
   "source": [
    "df_complete['date'] = df_complete['Date/Time'].dt.date\n",
    "\n",
    "df_monday_min_value = df_complete[df_complete['date'] == date_monday_min_value]\n",
    "\n"
   ]
  },
  {
   "cell_type": "code",
   "execution_count": 144,
   "metadata": {},
   "outputs": [],
   "source": [
    "df_monday_min_value = df_monday_min_value[['Lat', 'Lon']]"
   ]
  },
  {
   "cell_type": "code",
   "execution_count": 153,
   "metadata": {},
   "outputs": [
    {
     "data": {
      "text/html": [
       "<iframe\n",
       "    scrolling=\"no\"\n",
       "    width=\"100%\"\n",
       "    height=\"545px\"\n",
       "    src=\"iframe_figures/figure_153.html\"\n",
       "    frameborder=\"0\"\n",
       "    allowfullscreen\n",
       "></iframe>\n"
      ]
     },
     "metadata": {},
     "output_type": "display_data"
    }
   ],
   "source": [
    "dbscan = DBSCAN(n_jobs=-1, eps = 0.006, min_samples = 30, metric = 'manhattan')\n",
    "\n",
    "X = df_monday_min_value.copy()\n",
    "X['predictions'] = dbscan.fit_predict(X)\n",
    "fig = px.scatter_mapbox(X, lat=\"Lat\", lon=\"Lon\", color=\"predictions\", mapbox_style='carto-positron')\n",
    "fig.show()"
   ]
  },
  {
   "cell_type": "markdown",
   "metadata": {},
   "source": [
    "We choose to have a global look on the whole day to simplify. We still see the same hot spots as previously."
   ]
  },
  {
   "cell_type": "markdown",
   "metadata": {},
   "source": [
    "### Saturday max value"
   ]
  },
  {
   "cell_type": "code",
   "execution_count": 163,
   "metadata": {},
   "outputs": [
    {
     "name": "stderr",
     "output_type": "stream",
     "text": [
      "C:\\Users\\Bastien\\anaconda3\\lib\\site-packages\\pandas\\core\\ops\\array_ops.py:73: FutureWarning:\n",
      "\n",
      "Comparison of Timestamp with datetime.date is deprecated in order to match the standard library behavior.  In a future version these will be considered non-comparable.Use 'ts == pd.Timestamp(date)' or 'ts.date() == date' instead.\n",
      "\n"
     ]
    },
    {
     "data": {
      "text/html": [
       "<div>\n",
       "<style scoped>\n",
       "    .dataframe tbody tr th:only-of-type {\n",
       "        vertical-align: middle;\n",
       "    }\n",
       "\n",
       "    .dataframe tbody tr th {\n",
       "        vertical-align: top;\n",
       "    }\n",
       "\n",
       "    .dataframe thead th {\n",
       "        text-align: right;\n",
       "    }\n",
       "</style>\n",
       "<table border=\"1\" class=\"dataframe\">\n",
       "  <thead>\n",
       "    <tr style=\"text-align: right;\">\n",
       "      <th></th>\n",
       "      <th>Date/Time</th>\n",
       "      <th>Lat</th>\n",
       "      <th>Lon</th>\n",
       "      <th>year</th>\n",
       "      <th>month</th>\n",
       "      <th>dayofweek</th>\n",
       "      <th>day</th>\n",
       "      <th>hour</th>\n",
       "      <th>date</th>\n",
       "    </tr>\n",
       "  </thead>\n",
       "  <tbody>\n",
       "    <tr>\n",
       "      <th>3521953</th>\n",
       "      <td>2014-09-13 00:00:00</td>\n",
       "      <td>40.7228</td>\n",
       "      <td>-74.0045</td>\n",
       "      <td>2014</td>\n",
       "      <td>9</td>\n",
       "      <td>5</td>\n",
       "      <td>13</td>\n",
       "      <td>0</td>\n",
       "      <td>2014-09-13</td>\n",
       "    </tr>\n",
       "    <tr>\n",
       "      <th>3521954</th>\n",
       "      <td>2014-09-13 00:00:00</td>\n",
       "      <td>40.7618</td>\n",
       "      <td>-73.9940</td>\n",
       "      <td>2014</td>\n",
       "      <td>9</td>\n",
       "      <td>5</td>\n",
       "      <td>13</td>\n",
       "      <td>0</td>\n",
       "      <td>2014-09-13</td>\n",
       "    </tr>\n",
       "    <tr>\n",
       "      <th>3521955</th>\n",
       "      <td>2014-09-13 00:04:00</td>\n",
       "      <td>40.7505</td>\n",
       "      <td>-74.0031</td>\n",
       "      <td>2014</td>\n",
       "      <td>9</td>\n",
       "      <td>5</td>\n",
       "      <td>13</td>\n",
       "      <td>0</td>\n",
       "      <td>2014-09-13</td>\n",
       "    </tr>\n",
       "    <tr>\n",
       "      <th>3521956</th>\n",
       "      <td>2014-09-13 00:05:00</td>\n",
       "      <td>40.7418</td>\n",
       "      <td>-73.9972</td>\n",
       "      <td>2014</td>\n",
       "      <td>9</td>\n",
       "      <td>5</td>\n",
       "      <td>13</td>\n",
       "      <td>0</td>\n",
       "      <td>2014-09-13</td>\n",
       "    </tr>\n",
       "    <tr>\n",
       "      <th>3521957</th>\n",
       "      <td>2014-09-13 00:06:00</td>\n",
       "      <td>40.7092</td>\n",
       "      <td>-74.0132</td>\n",
       "      <td>2014</td>\n",
       "      <td>9</td>\n",
       "      <td>5</td>\n",
       "      <td>13</td>\n",
       "      <td>0</td>\n",
       "      <td>2014-09-13</td>\n",
       "    </tr>\n",
       "  </tbody>\n",
       "</table>\n",
       "</div>"
      ],
      "text/plain": [
       "                  Date/Time      Lat      Lon  year  month  dayofweek  day  \\\n",
       "3521953 2014-09-13 00:00:00  40.7228 -74.0045  2014      9          5   13   \n",
       "3521954 2014-09-13 00:00:00  40.7618 -73.9940  2014      9          5   13   \n",
       "3521955 2014-09-13 00:04:00  40.7505 -74.0031  2014      9          5   13   \n",
       "3521956 2014-09-13 00:05:00  40.7418 -73.9972  2014      9          5   13   \n",
       "3521957 2014-09-13 00:06:00  40.7092 -74.0132  2014      9          5   13   \n",
       "\n",
       "         hour        date  \n",
       "3521953     0  2014-09-13  \n",
       "3521954     0  2014-09-13  \n",
       "3521955     0  2014-09-13  \n",
       "3521956     0  2014-09-13  \n",
       "3521957     0  2014-09-13  "
      ]
     },
     "execution_count": 163,
     "metadata": {},
     "output_type": "execute_result"
    }
   ],
   "source": [
    "#outlier saturday to show at the end\n",
    "\n",
    "max_saturday = df_by_date[df_by_date['dayofweek'] == 5]['nb_calls_a_day'].max()\n",
    "date_sat_max_value = df_by_date[(df_by_date['dayofweek'] == 5) & (df_by_date['nb_calls_a_day'] == max_saturday)]['date'].iloc[0]\n",
    "df_sat_max_value = df_complete[df_complete['date'] == date_sat_max_value]\n",
    "df_sat_max_value.head()\n",
    "\n"
   ]
  },
  {
   "cell_type": "code",
   "execution_count": 165,
   "metadata": {},
   "outputs": [
    {
     "data": {
      "text/plain": [
       "Timestamp('2014-09-13 00:00:00')"
      ]
     },
     "execution_count": 165,
     "metadata": {},
     "output_type": "execute_result"
    }
   ],
   "source": [
    "date_sat_max_value"
   ]
  },
  {
   "cell_type": "code",
   "execution_count": 175,
   "metadata": {},
   "outputs": [
    {
     "data": {
      "text/html": [
       "<div>\n",
       "<style scoped>\n",
       "    .dataframe tbody tr th:only-of-type {\n",
       "        vertical-align: middle;\n",
       "    }\n",
       "\n",
       "    .dataframe tbody tr th {\n",
       "        vertical-align: top;\n",
       "    }\n",
       "\n",
       "    .dataframe thead th {\n",
       "        text-align: right;\n",
       "    }\n",
       "</style>\n",
       "<table border=\"1\" class=\"dataframe\">\n",
       "  <thead>\n",
       "    <tr style=\"text-align: right;\">\n",
       "      <th></th>\n",
       "      <th>Date/Time</th>\n",
       "      <th>Lat</th>\n",
       "      <th>Lon</th>\n",
       "      <th>year</th>\n",
       "      <th>month</th>\n",
       "      <th>dayofweek</th>\n",
       "      <th>day</th>\n",
       "      <th>hour</th>\n",
       "      <th>date</th>\n",
       "    </tr>\n",
       "  </thead>\n",
       "  <tbody>\n",
       "    <tr>\n",
       "      <th>0</th>\n",
       "      <td>2014-04-01 00:11:00</td>\n",
       "      <td>40.7690</td>\n",
       "      <td>-73.9549</td>\n",
       "      <td>2014</td>\n",
       "      <td>4</td>\n",
       "      <td>1</td>\n",
       "      <td>1</td>\n",
       "      <td>0</td>\n",
       "      <td>2014-04-01</td>\n",
       "    </tr>\n",
       "    <tr>\n",
       "      <th>1</th>\n",
       "      <td>2014-04-01 00:17:00</td>\n",
       "      <td>40.7267</td>\n",
       "      <td>-74.0345</td>\n",
       "      <td>2014</td>\n",
       "      <td>4</td>\n",
       "      <td>1</td>\n",
       "      <td>1</td>\n",
       "      <td>0</td>\n",
       "      <td>2014-04-01</td>\n",
       "    </tr>\n",
       "    <tr>\n",
       "      <th>2</th>\n",
       "      <td>2014-04-01 00:21:00</td>\n",
       "      <td>40.7316</td>\n",
       "      <td>-73.9873</td>\n",
       "      <td>2014</td>\n",
       "      <td>4</td>\n",
       "      <td>1</td>\n",
       "      <td>1</td>\n",
       "      <td>0</td>\n",
       "      <td>2014-04-01</td>\n",
       "    </tr>\n",
       "    <tr>\n",
       "      <th>3</th>\n",
       "      <td>2014-04-01 00:28:00</td>\n",
       "      <td>40.7588</td>\n",
       "      <td>-73.9776</td>\n",
       "      <td>2014</td>\n",
       "      <td>4</td>\n",
       "      <td>1</td>\n",
       "      <td>1</td>\n",
       "      <td>0</td>\n",
       "      <td>2014-04-01</td>\n",
       "    </tr>\n",
       "    <tr>\n",
       "      <th>4</th>\n",
       "      <td>2014-04-01 00:33:00</td>\n",
       "      <td>40.7594</td>\n",
       "      <td>-73.9722</td>\n",
       "      <td>2014</td>\n",
       "      <td>4</td>\n",
       "      <td>1</td>\n",
       "      <td>1</td>\n",
       "      <td>0</td>\n",
       "      <td>2014-04-01</td>\n",
       "    </tr>\n",
       "  </tbody>\n",
       "</table>\n",
       "</div>"
      ],
      "text/plain": [
       "            Date/Time      Lat      Lon  year  month  dayofweek  day  hour  \\\n",
       "0 2014-04-01 00:11:00  40.7690 -73.9549  2014      4          1    1     0   \n",
       "1 2014-04-01 00:17:00  40.7267 -74.0345  2014      4          1    1     0   \n",
       "2 2014-04-01 00:21:00  40.7316 -73.9873  2014      4          1    1     0   \n",
       "3 2014-04-01 00:28:00  40.7588 -73.9776  2014      4          1    1     0   \n",
       "4 2014-04-01 00:33:00  40.7594 -73.9722  2014      4          1    1     0   \n",
       "\n",
       "         date  \n",
       "0  2014-04-01  \n",
       "1  2014-04-01  \n",
       "2  2014-04-01  \n",
       "3  2014-04-01  \n",
       "4  2014-04-01  "
      ]
     },
     "execution_count": 175,
     "metadata": {},
     "output_type": "execute_result"
    }
   ],
   "source": [
    "df_complete.head()"
   ]
  },
  {
   "cell_type": "code",
   "execution_count": 214,
   "metadata": {},
   "outputs": [
    {
     "data": {
      "text/html": [
       "<div>\n",
       "<style scoped>\n",
       "    .dataframe tbody tr th:only-of-type {\n",
       "        vertical-align: middle;\n",
       "    }\n",
       "\n",
       "    .dataframe tbody tr th {\n",
       "        vertical-align: top;\n",
       "    }\n",
       "\n",
       "    .dataframe thead th {\n",
       "        text-align: right;\n",
       "    }\n",
       "</style>\n",
       "<table border=\"1\" class=\"dataframe\">\n",
       "  <thead>\n",
       "    <tr style=\"text-align: right;\">\n",
       "      <th></th>\n",
       "      <th>hour</th>\n",
       "      <th>count</th>\n",
       "      <th>ident</th>\n",
       "    </tr>\n",
       "  </thead>\n",
       "  <tbody>\n",
       "    <tr>\n",
       "      <th>0</th>\n",
       "      <td>0</td>\n",
       "      <td>1264.500000</td>\n",
       "      <td>average saturday</td>\n",
       "    </tr>\n",
       "    <tr>\n",
       "      <th>1</th>\n",
       "      <td>1</td>\n",
       "      <td>885.192308</td>\n",
       "      <td>average saturday</td>\n",
       "    </tr>\n",
       "    <tr>\n",
       "      <th>2</th>\n",
       "      <td>2</td>\n",
       "      <td>593.692308</td>\n",
       "      <td>average saturday</td>\n",
       "    </tr>\n",
       "    <tr>\n",
       "      <th>3</th>\n",
       "      <td>3</td>\n",
       "      <td>407.576923</td>\n",
       "      <td>average saturday</td>\n",
       "    </tr>\n",
       "    <tr>\n",
       "      <th>4</th>\n",
       "      <td>4</td>\n",
       "      <td>245.153846</td>\n",
       "      <td>average saturday</td>\n",
       "    </tr>\n",
       "    <tr>\n",
       "      <th>5</th>\n",
       "      <td>5</td>\n",
       "      <td>237.269231</td>\n",
       "      <td>average saturday</td>\n",
       "    </tr>\n",
       "    <tr>\n",
       "      <th>6</th>\n",
       "      <td>6</td>\n",
       "      <td>253.692308</td>\n",
       "      <td>average saturday</td>\n",
       "    </tr>\n",
       "    <tr>\n",
       "      <th>7</th>\n",
       "      <td>7</td>\n",
       "      <td>335.692308</td>\n",
       "      <td>average saturday</td>\n",
       "    </tr>\n",
       "    <tr>\n",
       "      <th>8</th>\n",
       "      <td>8</td>\n",
       "      <td>466.461538</td>\n",
       "      <td>average saturday</td>\n",
       "    </tr>\n",
       "    <tr>\n",
       "      <th>9</th>\n",
       "      <td>9</td>\n",
       "      <td>630.807692</td>\n",
       "      <td>average saturday</td>\n",
       "    </tr>\n",
       "  </tbody>\n",
       "</table>\n",
       "</div>"
      ],
      "text/plain": [
       "   hour        count             ident\n",
       "0     0  1264.500000  average saturday\n",
       "1     1   885.192308  average saturday\n",
       "2     2   593.692308  average saturday\n",
       "3     3   407.576923  average saturday\n",
       "4     4   245.153846  average saturday\n",
       "5     5   237.269231  average saturday\n",
       "6     6   253.692308  average saturday\n",
       "7     7   335.692308  average saturday\n",
       "8     8   466.461538  average saturday\n",
       "9     9   630.807692  average saturday"
      ]
     },
     "execution_count": 214,
     "metadata": {},
     "output_type": "execute_result"
    }
   ],
   "source": [
    "df_average_saturday = df_complete[df_complete['dayofweek'] == 6]\n",
    "df_average_saturday = df_average_saturday.groupby(['date', 'hour']).count()\n",
    "df_average_saturday = df_average_saturday.reset_index()\n",
    "df_average_saturday = df_average_saturday.groupby(['hour']).mean()\n",
    "df_average_saturday = df_average_saturday.reset_index()\n",
    "df_average_saturday = df_average_saturday[['hour', 'year']]\n",
    "df_average_saturday.rename(columns = {'year' : 'count'}, inplace = True)\n",
    "df_average_saturday['ident'] = 'average saturday'\n",
    " \n",
    "\n",
    "df_average_saturday.head(10)"
   ]
  },
  {
   "cell_type": "code",
   "execution_count": 215,
   "metadata": {},
   "outputs": [
    {
     "data": {
      "text/html": [
       "<div>\n",
       "<style scoped>\n",
       "    .dataframe tbody tr th:only-of-type {\n",
       "        vertical-align: middle;\n",
       "    }\n",
       "\n",
       "    .dataframe tbody tr th {\n",
       "        vertical-align: top;\n",
       "    }\n",
       "\n",
       "    .dataframe thead th {\n",
       "        text-align: right;\n",
       "    }\n",
       "</style>\n",
       "<table border=\"1\" class=\"dataframe\">\n",
       "  <thead>\n",
       "    <tr style=\"text-align: right;\">\n",
       "      <th></th>\n",
       "      <th>hour</th>\n",
       "      <th>count</th>\n",
       "      <th>ident</th>\n",
       "    </tr>\n",
       "  </thead>\n",
       "  <tbody>\n",
       "    <tr>\n",
       "      <th>0</th>\n",
       "      <td>0</td>\n",
       "      <td>1816</td>\n",
       "      <td>max saturday</td>\n",
       "    </tr>\n",
       "    <tr>\n",
       "      <th>1</th>\n",
       "      <td>1</td>\n",
       "      <td>1219</td>\n",
       "      <td>max saturday</td>\n",
       "    </tr>\n",
       "    <tr>\n",
       "      <th>2</th>\n",
       "      <td>2</td>\n",
       "      <td>783</td>\n",
       "      <td>max saturday</td>\n",
       "    </tr>\n",
       "    <tr>\n",
       "      <th>3</th>\n",
       "      <td>3</td>\n",
       "      <td>527</td>\n",
       "      <td>max saturday</td>\n",
       "    </tr>\n",
       "    <tr>\n",
       "      <th>4</th>\n",
       "      <td>4</td>\n",
       "      <td>363</td>\n",
       "      <td>max saturday</td>\n",
       "    </tr>\n",
       "  </tbody>\n",
       "</table>\n",
       "</div>"
      ],
      "text/plain": [
       "   hour  count         ident\n",
       "0     0   1816  max saturday\n",
       "1     1   1219  max saturday\n",
       "2     2    783  max saturday\n",
       "3     3    527  max saturday\n",
       "4     4    363  max saturday"
      ]
     },
     "execution_count": 215,
     "metadata": {},
     "output_type": "execute_result"
    }
   ],
   "source": [
    "df_sat_max_value_2 = df_sat_max_value.groupby('hour').count().reset_index()[['hour', 'Lat']]\n",
    "df_sat_max_value_2.rename(columns = {\"Lat\" : \"count\"}, inplace = True)\n",
    "df_sat_max_value_2['ident'] = 'max saturday'\n",
    "df_sat_max_value_2.head()"
   ]
  },
  {
   "cell_type": "code",
   "execution_count": 219,
   "metadata": {},
   "outputs": [],
   "source": [
    "df_sat_merge = pd.concat([df_average_saturday, df_sat_max_value_2] )"
   ]
  },
  {
   "cell_type": "code",
   "execution_count": 233,
   "metadata": {},
   "outputs": [
    {
     "data": {
      "image/png": "[encoded data removed]",
      "text/plain": [
       "<Figure size 772x360 with 1 Axes>"
      ]
     },
     "metadata": {
      "needs_background": "light"
     },
     "output_type": "display_data"
    }
   ],
   "source": [
    "sns.catplot(data = df_sat_merge, x = 'hour', y = 'count', kind = 'bar', hue =  'ident', aspect = 1.8)\n",
    "\n",
    "plt.title('Hour repartition of Uber requests 2014, 13th of September', fontsize = 15)\n",
    "plt.xlabel('Hour of the day', fontdict = {'size' : 20})\n",
    "plt.xticks([x for x in range(24)], fontsize = 15)\n",
    "plt.ylabel('Count', fontdict={'size' : 20})\n",
    "plt.yticks(fontsize = 20)\n",
    "\n",
    "plt.show()"
   ]
  },
  {
   "cell_type": "markdown",
   "metadata": {},
   "source": [
    "In comparison with an avergage saturday, people used a little more this day until 1pm, but it becomes really significan from 2pm to the end of the day. Maybe for 9/11 commemoration and/or sport event ? We could look closer to understand why this day was special but this is not the subject."
   ]
  },
  {
   "cell_type": "code",
   "execution_count": 245,
   "metadata": {},
   "outputs": [
    {
     "data": {
      "text/html": [
       "<iframe\n",
       "    scrolling=\"no\"\n",
       "    width=\"100%\"\n",
       "    height=\"545px\"\n",
       "    src=\"iframe_figures/figure_245.html\"\n",
       "    frameborder=\"0\"\n",
       "    allowfullscreen\n",
       "></iframe>\n"
      ]
     },
     "metadata": {},
     "output_type": "display_data"
    }
   ],
   "source": [
    "dbscan = DBSCAN(n_jobs=-1, eps = 0.006, min_samples = 120, metric = 'manhattan')\n",
    "\n",
    "X = df_sat_max_value[['Lat', 'Lon']].copy()\n",
    "X['predictions'] = dbscan.fit_predict(X)\n",
    "fig = px.scatter_mapbox(X, lat=\"Lat\", lon=\"Lon\", color=\"predictions\", mapbox_style='carto-positron')\n",
    "fig.show()"
   ]
  },
  {
   "cell_type": "markdown",
   "metadata": {},
   "source": [
    "# Conclusion"
   ]
  },
  {
   "cell_type": "markdown",
   "metadata": {},
   "source": []
  },
  {
   "cell_type": "code",
   "execution_count": null,
   "metadata": {},
   "outputs": [],
   "source": []
  },
  {
   "cell_type": "code",
   "execution_count": null,
   "metadata": {},
   "outputs": [],
   "source": []
  },
  {
   "cell_type": "code",
   "execution_count": null,
   "metadata": {},
   "outputs": [],
   "source": []
  },
  {
   "cell_type": "code",
   "execution_count": null,
   "metadata": {},
   "outputs": [],
   "source": []
  },
  {
   "cell_type": "code",
   "execution_count": null,
   "metadata": {},
   "outputs": [],
   "source": []
  },
  {
   "cell_type": "code",
   "execution_count": null,
   "metadata": {},
   "outputs": [],
   "source": []
  },
  {
   "cell_type": "code",
   "execution_count": null,
   "metadata": {},
   "outputs": [],
   "source": []
  },
  {
   "cell_type": "code",
   "execution_count": null,
   "metadata": {},
   "outputs": [],
   "source": []
  }
 ],
 "metadata": {
  "kernelspec": {
   "display_name": "Python 3 (ipykernel)",
   "language": "python",
   "name": "python3"
  },
  "language_info": {
   "codemirror_mode": {
    "name": "ipython",
    "version": 3
   },
   "file_extension": ".py",
   "mimetype": "text/x-python",
   "name": "python",
   "nbconvert_exporter": "python",
   "pygments_lexer": "ipython3",
   "version": "3.9.7"
  }
 },
 "nbformat": 4,
 "nbformat_minor": 4
}
